{
 "cells": [
  {
   "cell_type": "markdown",
   "id": "193b6dbb-ec1d-46c3-b52b-3483b394cbd4",
   "metadata": {},
   "source": [
    "## MOOC users behaviour prediction"
   ]
  },
  {
   "cell_type": "markdown",
   "id": "2dce64d2-9c5b-4308-a6ea-2421a57f793c",
   "metadata": {},
   "source": [
    "#### The goal is to predict if a user will finish the course or not based on the first 2 days of activity on the platform. We assume that user will finish course if he/she has successfully solved more than 40 practical problems.\n",
    "\n",
    "#### We are given a data with user activity splitted in two datasets.\n",
    "\n",
    "#### Then we have a data with first 2 days of activities for 6184 users."
   ]
  },
  {
   "cell_type": "code",
   "execution_count": 1,
   "id": "81c49a91-9c93-49ac-b79f-8242e47a893b",
   "metadata": {},
   "outputs": [],
   "source": [
    "import pandas as pd\n",
    "import numpy as np\n",
    "from sklearn.ensemble import RandomForestClassifier\n",
    "from sklearn.metrics import roc_curve, auc\n",
    "from sklearn.model_selection import GridSearchCV\n",
    "import matplotlib.pyplot as plt\n",
    "import seaborn as sns\n",
    "from sklearn.metrics import roc_auc_score\n",
    "from sklearn.model_selection import train_test_split"
   ]
  },
  {
   "cell_type": "code",
   "execution_count": 2,
   "id": "1163282d-c5cd-428a-873b-98aeef158834",
   "metadata": {},
   "outputs": [],
   "source": [
    "# loading traning data\n",
    "events_data_train = pd.read_csv(\"/data/raw/event_data_train.zip\")\n",
    "submission_data_train = pd.read_csv(\"/data/raw/submissions_data_train.zip\")"
   ]
  },
  {
   "cell_type": "code",
   "execution_count": 3,
   "id": "f692dcd5-edbc-46a6-9b0e-34e3d1304275",
   "metadata": {},
   "outputs": [],
   "source": [
    "# loading test data\n",
    "events_data_test = pd.read_csv('/data/raw/event_data_test.csv')\n",
    "submission_data_test = pd.read_csv('/data/raw/submissions_data_test.csv')"
   ]
  },
  {
   "cell_type": "code",
   "execution_count": 60,
   "id": "b454417c-f053-44a7-8587-4bb37d53e3f9",
   "metadata": {},
   "outputs": [
    {
     "data": {
      "text/html": [
       "<div>\n",
       "<style scoped>\n",
       "    .dataframe tbody tr th:only-of-type {\n",
       "        vertical-align: middle;\n",
       "    }\n",
       "\n",
       "    .dataframe tbody tr th {\n",
       "        vertical-align: top;\n",
       "    }\n",
       "\n",
       "    .dataframe thead th {\n",
       "        text-align: right;\n",
       "    }\n",
       "</style>\n",
       "<table border=\"1\" class=\"dataframe\">\n",
       "  <thead>\n",
       "    <tr style=\"text-align: right;\">\n",
       "      <th></th>\n",
       "      <th>step_id</th>\n",
       "      <th>timestamp</th>\n",
       "      <th>action</th>\n",
       "      <th>user_id</th>\n",
       "      <th>date</th>\n",
       "      <th>day</th>\n",
       "    </tr>\n",
       "  </thead>\n",
       "  <tbody>\n",
       "    <tr>\n",
       "      <th>0</th>\n",
       "      <td>30456</td>\n",
       "      <td>1526893787</td>\n",
       "      <td>viewed</td>\n",
       "      <td>24417</td>\n",
       "      <td>2018-05-21 09:09:47</td>\n",
       "      <td>2018-05-21</td>\n",
       "    </tr>\n",
       "    <tr>\n",
       "      <th>1</th>\n",
       "      <td>30456</td>\n",
       "      <td>1526893797</td>\n",
       "      <td>viewed</td>\n",
       "      <td>24417</td>\n",
       "      <td>2018-05-21 09:09:57</td>\n",
       "      <td>2018-05-21</td>\n",
       "    </tr>\n",
       "    <tr>\n",
       "      <th>2</th>\n",
       "      <td>30456</td>\n",
       "      <td>1526893954</td>\n",
       "      <td>viewed</td>\n",
       "      <td>24417</td>\n",
       "      <td>2018-05-21 09:12:34</td>\n",
       "      <td>2018-05-21</td>\n",
       "    </tr>\n",
       "    <tr>\n",
       "      <th>3</th>\n",
       "      <td>30456</td>\n",
       "      <td>1526895780</td>\n",
       "      <td>viewed</td>\n",
       "      <td>24417</td>\n",
       "      <td>2018-05-21 09:43:00</td>\n",
       "      <td>2018-05-21</td>\n",
       "    </tr>\n",
       "    <tr>\n",
       "      <th>4</th>\n",
       "      <td>30456</td>\n",
       "      <td>1526893787</td>\n",
       "      <td>discovered</td>\n",
       "      <td>24417</td>\n",
       "      <td>2018-05-21 09:09:47</td>\n",
       "      <td>2018-05-21</td>\n",
       "    </tr>\n",
       "  </tbody>\n",
       "</table>\n",
       "</div>"
      ],
      "text/plain": [
       "   step_id   timestamp      action  user_id                date         day\n",
       "0    30456  1526893787      viewed    24417 2018-05-21 09:09:47  2018-05-21\n",
       "1    30456  1526893797      viewed    24417 2018-05-21 09:09:57  2018-05-21\n",
       "2    30456  1526893954      viewed    24417 2018-05-21 09:12:34  2018-05-21\n",
       "3    30456  1526895780      viewed    24417 2018-05-21 09:43:00  2018-05-21\n",
       "4    30456  1526893787  discovered    24417 2018-05-21 09:09:47  2018-05-21"
      ]
     },
     "execution_count": 60,
     "metadata": {},
     "output_type": "execute_result"
    }
   ],
   "source": [
    "events_data_test.head()"
   ]
  },
  {
   "cell_type": "code",
   "execution_count": 61,
   "id": "89de9534-52d4-4f72-a078-0e5ee25143b5",
   "metadata": {},
   "outputs": [
    {
     "data": {
      "text/html": [
       "<div>\n",
       "<style scoped>\n",
       "    .dataframe tbody tr th:only-of-type {\n",
       "        vertical-align: middle;\n",
       "    }\n",
       "\n",
       "    .dataframe tbody tr th {\n",
       "        vertical-align: top;\n",
       "    }\n",
       "\n",
       "    .dataframe thead th {\n",
       "        text-align: right;\n",
       "    }\n",
       "</style>\n",
       "<table border=\"1\" class=\"dataframe\">\n",
       "  <thead>\n",
       "    <tr style=\"text-align: right;\">\n",
       "      <th></th>\n",
       "      <th>step_id</th>\n",
       "      <th>timestamp</th>\n",
       "      <th>submission_status</th>\n",
       "      <th>user_id</th>\n",
       "    </tr>\n",
       "  </thead>\n",
       "  <tbody>\n",
       "    <tr>\n",
       "      <th>0</th>\n",
       "      <td>31971</td>\n",
       "      <td>1526800961</td>\n",
       "      <td>wrong</td>\n",
       "      <td>24370</td>\n",
       "    </tr>\n",
       "    <tr>\n",
       "      <th>1</th>\n",
       "      <td>31971</td>\n",
       "      <td>1526800976</td>\n",
       "      <td>wrong</td>\n",
       "      <td>24370</td>\n",
       "    </tr>\n",
       "    <tr>\n",
       "      <th>2</th>\n",
       "      <td>31971</td>\n",
       "      <td>1526800993</td>\n",
       "      <td>wrong</td>\n",
       "      <td>24370</td>\n",
       "    </tr>\n",
       "    <tr>\n",
       "      <th>3</th>\n",
       "      <td>31971</td>\n",
       "      <td>1526801054</td>\n",
       "      <td>correct</td>\n",
       "      <td>24370</td>\n",
       "    </tr>\n",
       "    <tr>\n",
       "      <th>4</th>\n",
       "      <td>31972</td>\n",
       "      <td>1526800664</td>\n",
       "      <td>wrong</td>\n",
       "      <td>24370</td>\n",
       "    </tr>\n",
       "  </tbody>\n",
       "</table>\n",
       "</div>"
      ],
      "text/plain": [
       "   step_id   timestamp submission_status  user_id\n",
       "0    31971  1526800961             wrong    24370\n",
       "1    31971  1526800976             wrong    24370\n",
       "2    31971  1526800993             wrong    24370\n",
       "3    31971  1526801054           correct    24370\n",
       "4    31972  1526800664             wrong    24370"
      ]
     },
     "execution_count": 61,
     "metadata": {},
     "output_type": "execute_result"
    }
   ],
   "source": [
    "submission_data_test.head()"
   ]
  },
  {
   "cell_type": "markdown",
   "id": "5846e7b1-a766-4d6d-a8c6-96b722054fe7",
   "metadata": {},
   "source": [
    "#### 1. Let's take only the first 2 day activities from the train dataset"
   ]
  },
  {
   "cell_type": "code",
   "execution_count": 6,
   "id": "6ac31f1b-c613-49c9-9662-724bbd382ccf",
   "metadata": {},
   "outputs": [],
   "source": [
    "# define a 2-day threshold in seconds\n",
    "learning_time_threshold = 2 * 24 * 60 * 60"
   ]
  },
  {
   "cell_type": "code",
   "execution_count": 7,
   "id": "1ad8e7b2-cb68-4244-a39c-992b1dd4bd61",
   "metadata": {},
   "outputs": [],
   "source": [
    "# create an events df with timestamp of the first action made by user\n",
    "events_user_min_timestamp = events_data_train.groupby('user_id') \\\n",
    "    .agg({'timestamp': 'min'}) \\\n",
    "    .rename(columns={'timestamp': 'min_timestamp'}) \\\n",
    "    .reset_index()"
   ]
  },
  {
   "cell_type": "code",
   "execution_count": 8,
   "id": "cd353d29-cd58-40c0-a675-421c257c9d3f",
   "metadata": {},
   "outputs": [
    {
     "data": {
      "text/html": [
       "<div>\n",
       "<style scoped>\n",
       "    .dataframe tbody tr th:only-of-type {\n",
       "        vertical-align: middle;\n",
       "    }\n",
       "\n",
       "    .dataframe tbody tr th {\n",
       "        vertical-align: top;\n",
       "    }\n",
       "\n",
       "    .dataframe thead th {\n",
       "        text-align: right;\n",
       "    }\n",
       "</style>\n",
       "<table border=\"1\" class=\"dataframe\">\n",
       "  <thead>\n",
       "    <tr style=\"text-align: right;\">\n",
       "      <th></th>\n",
       "      <th>user_id</th>\n",
       "      <th>min_timestamp</th>\n",
       "    </tr>\n",
       "  </thead>\n",
       "  <tbody>\n",
       "    <tr>\n",
       "      <th>0</th>\n",
       "      <td>1</td>\n",
       "      <td>1472827464</td>\n",
       "    </tr>\n",
       "    <tr>\n",
       "      <th>1</th>\n",
       "      <td>2</td>\n",
       "      <td>1514383364</td>\n",
       "    </tr>\n",
       "    <tr>\n",
       "      <th>2</th>\n",
       "      <td>3</td>\n",
       "      <td>1434358476</td>\n",
       "    </tr>\n",
       "    <tr>\n",
       "      <th>3</th>\n",
       "      <td>5</td>\n",
       "      <td>1466156809</td>\n",
       "    </tr>\n",
       "    <tr>\n",
       "      <th>4</th>\n",
       "      <td>7</td>\n",
       "      <td>1521634660</td>\n",
       "    </tr>\n",
       "  </tbody>\n",
       "</table>\n",
       "</div>"
      ],
      "text/plain": [
       "   user_id  min_timestamp\n",
       "0        1     1472827464\n",
       "1        2     1514383364\n",
       "2        3     1434358476\n",
       "3        5     1466156809\n",
       "4        7     1521634660"
      ]
     },
     "execution_count": 8,
     "metadata": {},
     "output_type": "execute_result"
    }
   ],
   "source": [
    "events_user_min_timestamp.head()"
   ]
  },
  {
   "cell_type": "code",
   "execution_count": 9,
   "id": "5aaa92e2-bbcd-4bd6-942c-8f94cd8eab52",
   "metadata": {},
   "outputs": [],
   "source": [
    "# merge this with train dataset \n",
    "events_train_with_min_timestamp = pd.merge(events_data_train, events_user_min_timestamp, \n",
    "                                   on='user_id', how='outer')"
   ]
  },
  {
   "cell_type": "code",
   "execution_count": 10,
   "id": "f629e3e9-104e-4c29-88ad-693958ab42c5",
   "metadata": {},
   "outputs": [
    {
     "data": {
      "text/plain": [
       "True"
      ]
     },
     "execution_count": 10,
     "metadata": {},
     "output_type": "execute_result"
    }
   ],
   "source": [
    "# Nothing lost\n",
    "events_train_with_min_timestamp.user_id.nunique() == events_data_train.user_id.nunique()"
   ]
  },
  {
   "cell_type": "code",
   "execution_count": 11,
   "id": "4674aa13-b427-4e77-bc99-13b3c482269f",
   "metadata": {},
   "outputs": [
    {
     "data": {
      "text/html": [
       "<div>\n",
       "<style scoped>\n",
       "    .dataframe tbody tr th:only-of-type {\n",
       "        vertical-align: middle;\n",
       "    }\n",
       "\n",
       "    .dataframe tbody tr th {\n",
       "        vertical-align: top;\n",
       "    }\n",
       "\n",
       "    .dataframe thead th {\n",
       "        text-align: right;\n",
       "    }\n",
       "</style>\n",
       "<table border=\"1\" class=\"dataframe\">\n",
       "  <thead>\n",
       "    <tr style=\"text-align: right;\">\n",
       "      <th></th>\n",
       "      <th>step_id</th>\n",
       "      <th>timestamp</th>\n",
       "      <th>action</th>\n",
       "      <th>user_id</th>\n",
       "      <th>min_timestamp</th>\n",
       "    </tr>\n",
       "  </thead>\n",
       "  <tbody>\n",
       "    <tr>\n",
       "      <th>0</th>\n",
       "      <td>32815</td>\n",
       "      <td>1434340848</td>\n",
       "      <td>viewed</td>\n",
       "      <td>17632</td>\n",
       "      <td>1434340848</td>\n",
       "    </tr>\n",
       "    <tr>\n",
       "      <th>1</th>\n",
       "      <td>32815</td>\n",
       "      <td>1434340848</td>\n",
       "      <td>passed</td>\n",
       "      <td>17632</td>\n",
       "      <td>1434340848</td>\n",
       "    </tr>\n",
       "    <tr>\n",
       "      <th>2</th>\n",
       "      <td>32815</td>\n",
       "      <td>1434340848</td>\n",
       "      <td>discovered</td>\n",
       "      <td>17632</td>\n",
       "      <td>1434340848</td>\n",
       "    </tr>\n",
       "    <tr>\n",
       "      <th>3</th>\n",
       "      <td>32811</td>\n",
       "      <td>1434340895</td>\n",
       "      <td>discovered</td>\n",
       "      <td>17632</td>\n",
       "      <td>1434340848</td>\n",
       "    </tr>\n",
       "    <tr>\n",
       "      <th>4</th>\n",
       "      <td>32811</td>\n",
       "      <td>1434340895</td>\n",
       "      <td>viewed</td>\n",
       "      <td>17632</td>\n",
       "      <td>1434340848</td>\n",
       "    </tr>\n",
       "  </tbody>\n",
       "</table>\n",
       "</div>"
      ],
      "text/plain": [
       "   step_id   timestamp      action  user_id  min_timestamp\n",
       "0    32815  1434340848      viewed    17632     1434340848\n",
       "1    32815  1434340848      passed    17632     1434340848\n",
       "2    32815  1434340848  discovered    17632     1434340848\n",
       "3    32811  1434340895  discovered    17632     1434340848\n",
       "4    32811  1434340895      viewed    17632     1434340848"
      ]
     },
     "execution_count": 11,
     "metadata": {},
     "output_type": "execute_result"
    }
   ],
   "source": [
    "events_train_with_min_timestamp.head()"
   ]
  },
  {
   "cell_type": "code",
   "execution_count": 12,
   "id": "05545f2a-8e1d-449f-9a4d-d5140f1f9133",
   "metadata": {},
   "outputs": [],
   "source": [
    "# filter everything that is in 2-day interval\n",
    "events_train_2days = events_train_with_min_timestamp.query('timestamp <= min_timestamp + @learning_time_threshold')"
   ]
  },
  {
   "cell_type": "code",
   "execution_count": 13,
   "id": "19a8a8d1-1796-4644-86db-bd03109b4242",
   "metadata": {},
   "outputs": [],
   "source": [
    "# we don't need a min_timestamp column, so drop it\n",
    "events_train_2days = events_train_2days.drop('min_timestamp', axis=1)"
   ]
  },
  {
   "cell_type": "code",
   "execution_count": 14,
   "id": "bdec98f7-606d-4ec5-883b-06851f47fae0",
   "metadata": {},
   "outputs": [],
   "source": [
    "# let's do the same with submission_train dataset\n",
    "# create a submission df with timestamp of the first action made by user\n",
    "submissions_user_min_timestamp = submission_data_train.groupby('user_id') \\\n",
    "    .agg({'timestamp': 'min'}) \\\n",
    "    .rename(columns={'timestamp': 'min_timestamp'}) \\\n",
    "    .reset_index()"
   ]
  },
  {
   "cell_type": "code",
   "execution_count": 15,
   "id": "f366630c-9163-4e95-9f2d-4b653d5f522a",
   "metadata": {},
   "outputs": [
    {
     "data": {
      "text/html": [
       "<div>\n",
       "<style scoped>\n",
       "    .dataframe tbody tr th:only-of-type {\n",
       "        vertical-align: middle;\n",
       "    }\n",
       "\n",
       "    .dataframe tbody tr th {\n",
       "        vertical-align: top;\n",
       "    }\n",
       "\n",
       "    .dataframe thead th {\n",
       "        text-align: right;\n",
       "    }\n",
       "</style>\n",
       "<table border=\"1\" class=\"dataframe\">\n",
       "  <thead>\n",
       "    <tr style=\"text-align: right;\">\n",
       "      <th></th>\n",
       "      <th>user_id</th>\n",
       "      <th>min_timestamp</th>\n",
       "    </tr>\n",
       "  </thead>\n",
       "  <tbody>\n",
       "    <tr>\n",
       "      <th>0</th>\n",
       "      <td>2</td>\n",
       "      <td>1514383420</td>\n",
       "    </tr>\n",
       "    <tr>\n",
       "      <th>1</th>\n",
       "      <td>3</td>\n",
       "      <td>1434358533</td>\n",
       "    </tr>\n",
       "    <tr>\n",
       "      <th>2</th>\n",
       "      <td>5</td>\n",
       "      <td>1499859650</td>\n",
       "    </tr>\n",
       "    <tr>\n",
       "      <th>3</th>\n",
       "      <td>8</td>\n",
       "      <td>1480603432</td>\n",
       "    </tr>\n",
       "    <tr>\n",
       "      <th>4</th>\n",
       "      <td>14</td>\n",
       "      <td>1436368601</td>\n",
       "    </tr>\n",
       "  </tbody>\n",
       "</table>\n",
       "</div>"
      ],
      "text/plain": [
       "   user_id  min_timestamp\n",
       "0        2     1514383420\n",
       "1        3     1434358533\n",
       "2        5     1499859650\n",
       "3        8     1480603432\n",
       "4       14     1436368601"
      ]
     },
     "execution_count": 15,
     "metadata": {},
     "output_type": "execute_result"
    }
   ],
   "source": [
    "submissions_user_min_timestamp.head()"
   ]
  },
  {
   "cell_type": "code",
   "execution_count": 16,
   "id": "2b97dd62-fa8e-4555-adda-b3963dcb7bf6",
   "metadata": {},
   "outputs": [],
   "source": [
    "submission_train_2days = submission_data_train.merge(submissions_user_min_timestamp, on='user_id', how='outer')\n",
    "\n",
    "submission_train_2days = submission_train_2days.query('timestamp <= min_timestamp + @learning_time_threshold') \\\n",
    "    .drop('min_timestamp', axis=1)"
   ]
  },
  {
   "cell_type": "code",
   "execution_count": 17,
   "id": "806a0f87-fb56-484f-b94d-2ee8568e0254",
   "metadata": {},
   "outputs": [
    {
     "data": {
      "text/html": [
       "<div>\n",
       "<style scoped>\n",
       "    .dataframe tbody tr th:only-of-type {\n",
       "        vertical-align: middle;\n",
       "    }\n",
       "\n",
       "    .dataframe tbody tr th {\n",
       "        vertical-align: top;\n",
       "    }\n",
       "\n",
       "    .dataframe thead th {\n",
       "        text-align: right;\n",
       "    }\n",
       "</style>\n",
       "<table border=\"1\" class=\"dataframe\">\n",
       "  <thead>\n",
       "    <tr style=\"text-align: right;\">\n",
       "      <th></th>\n",
       "      <th>step_id</th>\n",
       "      <th>timestamp</th>\n",
       "      <th>submission_status</th>\n",
       "      <th>user_id</th>\n",
       "    </tr>\n",
       "  </thead>\n",
       "  <tbody>\n",
       "    <tr>\n",
       "      <th>0</th>\n",
       "      <td>31971</td>\n",
       "      <td>1434349275</td>\n",
       "      <td>correct</td>\n",
       "      <td>15853</td>\n",
       "    </tr>\n",
       "    <tr>\n",
       "      <th>1</th>\n",
       "      <td>31972</td>\n",
       "      <td>1434348300</td>\n",
       "      <td>correct</td>\n",
       "      <td>15853</td>\n",
       "    </tr>\n",
       "    <tr>\n",
       "      <th>4</th>\n",
       "      <td>31976</td>\n",
       "      <td>1434348123</td>\n",
       "      <td>wrong</td>\n",
       "      <td>15853</td>\n",
       "    </tr>\n",
       "    <tr>\n",
       "      <th>5</th>\n",
       "      <td>31976</td>\n",
       "      <td>1434348188</td>\n",
       "      <td>correct</td>\n",
       "      <td>15853</td>\n",
       "    </tr>\n",
       "    <tr>\n",
       "      <th>7</th>\n",
       "      <td>31977</td>\n",
       "      <td>1434347371</td>\n",
       "      <td>correct</td>\n",
       "      <td>15853</td>\n",
       "    </tr>\n",
       "  </tbody>\n",
       "</table>\n",
       "</div>"
      ],
      "text/plain": [
       "   step_id   timestamp submission_status  user_id\n",
       "0    31971  1434349275           correct    15853\n",
       "1    31972  1434348300           correct    15853\n",
       "4    31976  1434348123             wrong    15853\n",
       "5    31976  1434348188           correct    15853\n",
       "7    31977  1434347371           correct    15853"
      ]
     },
     "execution_count": 17,
     "metadata": {},
     "output_type": "execute_result"
    }
   ],
   "source": [
    "submission_train_2days.head()"
   ]
  },
  {
   "cell_type": "code",
   "execution_count": 18,
   "id": "df0e374b-cb52-46ba-80da-cd0fa6c62c53",
   "metadata": {},
   "outputs": [
    {
     "data": {
      "text/html": [
       "<div>\n",
       "<style scoped>\n",
       "    .dataframe tbody tr th:only-of-type {\n",
       "        vertical-align: middle;\n",
       "    }\n",
       "\n",
       "    .dataframe tbody tr th {\n",
       "        vertical-align: top;\n",
       "    }\n",
       "\n",
       "    .dataframe thead th {\n",
       "        text-align: right;\n",
       "    }\n",
       "</style>\n",
       "<table border=\"1\" class=\"dataframe\">\n",
       "  <thead>\n",
       "    <tr style=\"text-align: right;\">\n",
       "      <th></th>\n",
       "      <th>step_id</th>\n",
       "      <th>timestamp</th>\n",
       "      <th>action</th>\n",
       "      <th>user_id</th>\n",
       "    </tr>\n",
       "  </thead>\n",
       "  <tbody>\n",
       "    <tr>\n",
       "      <th>0</th>\n",
       "      <td>32815</td>\n",
       "      <td>1434340848</td>\n",
       "      <td>viewed</td>\n",
       "      <td>17632</td>\n",
       "    </tr>\n",
       "    <tr>\n",
       "      <th>1</th>\n",
       "      <td>32815</td>\n",
       "      <td>1434340848</td>\n",
       "      <td>passed</td>\n",
       "      <td>17632</td>\n",
       "    </tr>\n",
       "    <tr>\n",
       "      <th>2</th>\n",
       "      <td>32815</td>\n",
       "      <td>1434340848</td>\n",
       "      <td>discovered</td>\n",
       "      <td>17632</td>\n",
       "    </tr>\n",
       "    <tr>\n",
       "      <th>3</th>\n",
       "      <td>32811</td>\n",
       "      <td>1434340895</td>\n",
       "      <td>discovered</td>\n",
       "      <td>17632</td>\n",
       "    </tr>\n",
       "    <tr>\n",
       "      <th>4</th>\n",
       "      <td>32811</td>\n",
       "      <td>1434340895</td>\n",
       "      <td>viewed</td>\n",
       "      <td>17632</td>\n",
       "    </tr>\n",
       "  </tbody>\n",
       "</table>\n",
       "</div>"
      ],
      "text/plain": [
       "   step_id   timestamp      action  user_id\n",
       "0    32815  1434340848      viewed    17632\n",
       "1    32815  1434340848      passed    17632\n",
       "2    32815  1434340848  discovered    17632\n",
       "3    32811  1434340895  discovered    17632\n",
       "4    32811  1434340895      viewed    17632"
      ]
     },
     "execution_count": 18,
     "metadata": {},
     "output_type": "execute_result"
    }
   ],
   "source": [
    "events_train_2days.head()"
   ]
  },
  {
   "cell_type": "markdown",
   "id": "2c32b688-d2a4-41b2-9b95-7e31e7a4ebf7",
   "metadata": {
    "tags": []
   },
   "source": [
    "#### 2. Create base features\n",
    "\n",
    "Base feautures are user actions and correct/wrong answers"
   ]
  },
  {
   "cell_type": "code",
   "execution_count": 19,
   "id": "edc480c9-5a8b-4e1a-a41e-a0028a18bae7",
   "metadata": {},
   "outputs": [],
   "source": [
    "# user actions\n",
    "users_events_data = pd.pivot_table(data=events_train_2days, \n",
    "                                   values='step_id', \n",
    "                                   index='user_id', \n",
    "                                   columns='action',\n",
    "                                   aggfunc='count', \n",
    "                                   fill_value=0) \\\n",
    "                                   .reset_index() \\\n",
    "                                   .rename_axis('', axis=1)"
   ]
  },
  {
   "cell_type": "code",
   "execution_count": 20,
   "id": "d52f77aa-0a0e-4ba2-a8ec-bdc6b9ec20da",
   "metadata": {},
   "outputs": [
    {
     "data": {
      "text/html": [
       "<div>\n",
       "<style scoped>\n",
       "    .dataframe tbody tr th:only-of-type {\n",
       "        vertical-align: middle;\n",
       "    }\n",
       "\n",
       "    .dataframe tbody tr th {\n",
       "        vertical-align: top;\n",
       "    }\n",
       "\n",
       "    .dataframe thead th {\n",
       "        text-align: right;\n",
       "    }\n",
       "</style>\n",
       "<table border=\"1\" class=\"dataframe\">\n",
       "  <thead>\n",
       "    <tr style=\"text-align: right;\">\n",
       "      <th></th>\n",
       "      <th>user_id</th>\n",
       "      <th>discovered</th>\n",
       "      <th>passed</th>\n",
       "      <th>started_attempt</th>\n",
       "      <th>viewed</th>\n",
       "    </tr>\n",
       "  </thead>\n",
       "  <tbody>\n",
       "    <tr>\n",
       "      <th>0</th>\n",
       "      <td>1</td>\n",
       "      <td>1</td>\n",
       "      <td>0</td>\n",
       "      <td>0</td>\n",
       "      <td>1</td>\n",
       "    </tr>\n",
       "    <tr>\n",
       "      <th>1</th>\n",
       "      <td>2</td>\n",
       "      <td>9</td>\n",
       "      <td>9</td>\n",
       "      <td>2</td>\n",
       "      <td>9</td>\n",
       "    </tr>\n",
       "    <tr>\n",
       "      <th>2</th>\n",
       "      <td>3</td>\n",
       "      <td>15</td>\n",
       "      <td>15</td>\n",
       "      <td>4</td>\n",
       "      <td>20</td>\n",
       "    </tr>\n",
       "    <tr>\n",
       "      <th>3</th>\n",
       "      <td>5</td>\n",
       "      <td>1</td>\n",
       "      <td>1</td>\n",
       "      <td>0</td>\n",
       "      <td>1</td>\n",
       "    </tr>\n",
       "    <tr>\n",
       "      <th>4</th>\n",
       "      <td>7</td>\n",
       "      <td>1</td>\n",
       "      <td>1</td>\n",
       "      <td>0</td>\n",
       "      <td>1</td>\n",
       "    </tr>\n",
       "  </tbody>\n",
       "</table>\n",
       "</div>"
      ],
      "text/plain": [
       "   user_id  discovered  passed  started_attempt  viewed\n",
       "0        1           1       0                0       1\n",
       "1        2           9       9                2       9\n",
       "2        3          15      15                4      20\n",
       "3        5           1       1                0       1\n",
       "4        7           1       1                0       1"
      ]
     },
     "execution_count": 20,
     "metadata": {},
     "output_type": "execute_result"
    }
   ],
   "source": [
    "users_events_data.head()"
   ]
  },
  {
   "cell_type": "code",
   "execution_count": 21,
   "id": "79e22d1c-d5bb-4c90-b048-f9f733c0e6d9",
   "metadata": {},
   "outputs": [],
   "source": [
    "# correct/wrong answers\n",
    "users_scores = pd.pivot_table(data=submission_train_2days, \n",
    "                                   values='step_id', \n",
    "                                   index='user_id', \n",
    "                                   columns='submission_status',\n",
    "                                   aggfunc='count', \n",
    "                                   fill_value=0) \\\n",
    "                                   .reset_index() \\\n",
    "                                   .rename_axis('', axis=1)\n",
    "\n",
    "# add column with correct/wrong answers ratio\n",
    "users_scores['correct_ratio'] = (users_scores.correct / (users_scores.correct + users_scores.wrong)).fillna(0)"
   ]
  },
  {
   "cell_type": "code",
   "execution_count": 22,
   "id": "2024c593-83c7-48c0-97bb-3d7969f95152",
   "metadata": {},
   "outputs": [
    {
     "data": {
      "text/html": [
       "<div>\n",
       "<style scoped>\n",
       "    .dataframe tbody tr th:only-of-type {\n",
       "        vertical-align: middle;\n",
       "    }\n",
       "\n",
       "    .dataframe tbody tr th {\n",
       "        vertical-align: top;\n",
       "    }\n",
       "\n",
       "    .dataframe thead th {\n",
       "        text-align: right;\n",
       "    }\n",
       "</style>\n",
       "<table border=\"1\" class=\"dataframe\">\n",
       "  <thead>\n",
       "    <tr style=\"text-align: right;\">\n",
       "      <th></th>\n",
       "      <th>user_id</th>\n",
       "      <th>correct</th>\n",
       "      <th>wrong</th>\n",
       "      <th>correct_ratio</th>\n",
       "    </tr>\n",
       "  </thead>\n",
       "  <tbody>\n",
       "    <tr>\n",
       "      <th>0</th>\n",
       "      <td>2</td>\n",
       "      <td>2</td>\n",
       "      <td>0</td>\n",
       "      <td>1.0</td>\n",
       "    </tr>\n",
       "    <tr>\n",
       "      <th>1</th>\n",
       "      <td>3</td>\n",
       "      <td>4</td>\n",
       "      <td>4</td>\n",
       "      <td>0.5</td>\n",
       "    </tr>\n",
       "    <tr>\n",
       "      <th>2</th>\n",
       "      <td>5</td>\n",
       "      <td>2</td>\n",
       "      <td>2</td>\n",
       "      <td>0.5</td>\n",
       "    </tr>\n",
       "    <tr>\n",
       "      <th>3</th>\n",
       "      <td>8</td>\n",
       "      <td>9</td>\n",
       "      <td>21</td>\n",
       "      <td>0.3</td>\n",
       "    </tr>\n",
       "    <tr>\n",
       "      <th>4</th>\n",
       "      <td>14</td>\n",
       "      <td>0</td>\n",
       "      <td>1</td>\n",
       "      <td>0.0</td>\n",
       "    </tr>\n",
       "  </tbody>\n",
       "</table>\n",
       "</div>"
      ],
      "text/plain": [
       "   user_id  correct  wrong  correct_ratio\n",
       "0        2        2      0            1.0\n",
       "1        3        4      4            0.5\n",
       "2        5        2      2            0.5\n",
       "3        8        9     21            0.3\n",
       "4       14        0      1            0.0"
      ]
     },
     "execution_count": 22,
     "metadata": {},
     "output_type": "execute_result"
    }
   ],
   "source": [
    "users_scores.head()"
   ]
  },
  {
   "cell_type": "code",
   "execution_count": 23,
   "id": "b7d77b78-1ba2-4ec9-8f4b-63c971958438",
   "metadata": {},
   "outputs": [],
   "source": [
    "# number of steps that user tried to pass\n",
    "users_steps_tried = submission_train_2days.groupby('user_id', as_index=False) \\\n",
    "    .step_id.nunique() \\\n",
    "    .rename(columns={'step_id': 'steps_tried'})"
   ]
  },
  {
   "cell_type": "code",
   "execution_count": 24,
   "id": "6719adaf-44e2-478a-93fe-492a219f2499",
   "metadata": {},
   "outputs": [],
   "source": [
    "# combine all together\n",
    "users_data = pd.merge(users_events_data, users_scores,\n",
    "                      on='user_id', \n",
    "                      how='outer').fillna(0)"
   ]
  },
  {
   "cell_type": "code",
   "execution_count": 25,
   "id": "0aab4c45-7ddc-4b06-9cdd-da3f1f7cbc92",
   "metadata": {},
   "outputs": [],
   "source": [
    "users_data = users_data.merge(users_steps_tried, how='outer').fillna(0)"
   ]
  },
  {
   "cell_type": "code",
   "execution_count": 26,
   "id": "4bc12543-cde3-4aaa-96a2-27afd010337d",
   "metadata": {},
   "outputs": [
    {
     "data": {
      "text/html": [
       "<div>\n",
       "<style scoped>\n",
       "    .dataframe tbody tr th:only-of-type {\n",
       "        vertical-align: middle;\n",
       "    }\n",
       "\n",
       "    .dataframe tbody tr th {\n",
       "        vertical-align: top;\n",
       "    }\n",
       "\n",
       "    .dataframe thead th {\n",
       "        text-align: right;\n",
       "    }\n",
       "</style>\n",
       "<table border=\"1\" class=\"dataframe\">\n",
       "  <thead>\n",
       "    <tr style=\"text-align: right;\">\n",
       "      <th></th>\n",
       "      <th>user_id</th>\n",
       "      <th>discovered</th>\n",
       "      <th>passed</th>\n",
       "      <th>started_attempt</th>\n",
       "      <th>viewed</th>\n",
       "      <th>correct</th>\n",
       "      <th>wrong</th>\n",
       "      <th>correct_ratio</th>\n",
       "      <th>steps_tried</th>\n",
       "    </tr>\n",
       "  </thead>\n",
       "  <tbody>\n",
       "    <tr>\n",
       "      <th>0</th>\n",
       "      <td>1</td>\n",
       "      <td>1</td>\n",
       "      <td>0</td>\n",
       "      <td>0</td>\n",
       "      <td>1</td>\n",
       "      <td>0.0</td>\n",
       "      <td>0.0</td>\n",
       "      <td>0.0</td>\n",
       "      <td>0.0</td>\n",
       "    </tr>\n",
       "    <tr>\n",
       "      <th>1</th>\n",
       "      <td>2</td>\n",
       "      <td>9</td>\n",
       "      <td>9</td>\n",
       "      <td>2</td>\n",
       "      <td>9</td>\n",
       "      <td>2.0</td>\n",
       "      <td>0.0</td>\n",
       "      <td>1.0</td>\n",
       "      <td>2.0</td>\n",
       "    </tr>\n",
       "    <tr>\n",
       "      <th>2</th>\n",
       "      <td>3</td>\n",
       "      <td>15</td>\n",
       "      <td>15</td>\n",
       "      <td>4</td>\n",
       "      <td>20</td>\n",
       "      <td>4.0</td>\n",
       "      <td>4.0</td>\n",
       "      <td>0.5</td>\n",
       "      <td>4.0</td>\n",
       "    </tr>\n",
       "    <tr>\n",
       "      <th>3</th>\n",
       "      <td>5</td>\n",
       "      <td>1</td>\n",
       "      <td>1</td>\n",
       "      <td>0</td>\n",
       "      <td>1</td>\n",
       "      <td>2.0</td>\n",
       "      <td>2.0</td>\n",
       "      <td>0.5</td>\n",
       "      <td>2.0</td>\n",
       "    </tr>\n",
       "    <tr>\n",
       "      <th>4</th>\n",
       "      <td>7</td>\n",
       "      <td>1</td>\n",
       "      <td>1</td>\n",
       "      <td>0</td>\n",
       "      <td>1</td>\n",
       "      <td>0.0</td>\n",
       "      <td>0.0</td>\n",
       "      <td>0.0</td>\n",
       "      <td>0.0</td>\n",
       "    </tr>\n",
       "  </tbody>\n",
       "</table>\n",
       "</div>"
      ],
      "text/plain": [
       "   user_id  discovered  passed  started_attempt  viewed  correct  wrong  \\\n",
       "0        1           1       0                0       1      0.0    0.0   \n",
       "1        2           9       9                2       9      2.0    0.0   \n",
       "2        3          15      15                4      20      4.0    4.0   \n",
       "3        5           1       1                0       1      2.0    2.0   \n",
       "4        7           1       1                0       1      0.0    0.0   \n",
       "\n",
       "   correct_ratio  steps_tried  \n",
       "0            0.0          0.0  \n",
       "1            1.0          2.0  \n",
       "2            0.5          4.0  \n",
       "3            0.5          2.0  \n",
       "4            0.0          0.0  "
      ]
     },
     "execution_count": 26,
     "metadata": {},
     "output_type": "execute_result"
    }
   ],
   "source": [
    "users_data.head()"
   ]
  },
  {
   "cell_type": "code",
   "execution_count": 27,
   "id": "9d951fb8-804f-495f-aee5-973a29cb0eaa",
   "metadata": {},
   "outputs": [
    {
     "data": {
      "text/plain": [
       "True"
      ]
     },
     "execution_count": 27,
     "metadata": {},
     "output_type": "execute_result"
    }
   ],
   "source": [
    "# Nothing lost\n",
    "users_data.user_id.nunique() == events_data_train.user_id.nunique()"
   ]
  },
  {
   "cell_type": "markdown",
   "id": "a7a86bb6-c902-4d61-92dc-ef2462ee4cbb",
   "metadata": {
    "tags": []
   },
   "source": [
    "#### 3. Calculate target variable\n",
    "\n",
    "Target condition: if a user finishes 40 practical tasks, we conclude that he's going to finish the course."
   ]
  },
  {
   "cell_type": "code",
   "execution_count": 28,
   "id": "78a49b4c-9762-494b-9916-d85678c60c11",
   "metadata": {},
   "outputs": [],
   "source": [
    "# count all finished practical tatsks for each user\n",
    "users_count_correct = submission_data_train[submission_data_train.submission_status == 'correct'] \\\n",
    "    .groupby('user_id', as_index=False).agg({'step_id': 'count'}) \\\n",
    "    .rename(columns={'step_id': 'corrects'})"
   ]
  },
  {
   "cell_type": "code",
   "execution_count": 29,
   "id": "f03a0aa4-2ed9-46f2-96e4-5d4ff2751bd7",
   "metadata": {},
   "outputs": [
    {
     "data": {
      "text/html": [
       "<div>\n",
       "<style scoped>\n",
       "    .dataframe tbody tr th:only-of-type {\n",
       "        vertical-align: middle;\n",
       "    }\n",
       "\n",
       "    .dataframe tbody tr th {\n",
       "        vertical-align: top;\n",
       "    }\n",
       "\n",
       "    .dataframe thead th {\n",
       "        text-align: right;\n",
       "    }\n",
       "</style>\n",
       "<table border=\"1\" class=\"dataframe\">\n",
       "  <thead>\n",
       "    <tr style=\"text-align: right;\">\n",
       "      <th></th>\n",
       "      <th>user_id</th>\n",
       "      <th>corrects</th>\n",
       "    </tr>\n",
       "  </thead>\n",
       "  <tbody>\n",
       "    <tr>\n",
       "      <th>0</th>\n",
       "      <td>2</td>\n",
       "      <td>2</td>\n",
       "    </tr>\n",
       "    <tr>\n",
       "      <th>1</th>\n",
       "      <td>3</td>\n",
       "      <td>29</td>\n",
       "    </tr>\n",
       "    <tr>\n",
       "      <th>2</th>\n",
       "      <td>5</td>\n",
       "      <td>2</td>\n",
       "    </tr>\n",
       "    <tr>\n",
       "      <th>3</th>\n",
       "      <td>8</td>\n",
       "      <td>9</td>\n",
       "    </tr>\n",
       "    <tr>\n",
       "      <th>4</th>\n",
       "      <td>16</td>\n",
       "      <td>77</td>\n",
       "    </tr>\n",
       "  </tbody>\n",
       "</table>\n",
       "</div>"
      ],
      "text/plain": [
       "   user_id  corrects\n",
       "0        2         2\n",
       "1        3        29\n",
       "2        5         2\n",
       "3        8         9\n",
       "4       16        77"
      ]
     },
     "execution_count": 29,
     "metadata": {},
     "output_type": "execute_result"
    }
   ],
   "source": [
    "users_count_correct.head()"
   ]
  },
  {
   "cell_type": "code",
   "execution_count": 30,
   "id": "dab7fe9c-d425-453e-aca0-906abaf59e8f",
   "metadata": {},
   "outputs": [
    {
     "data": {
      "text/html": [
       "<div>\n",
       "<style scoped>\n",
       "    .dataframe tbody tr th:only-of-type {\n",
       "        vertical-align: middle;\n",
       "    }\n",
       "\n",
       "    .dataframe tbody tr th {\n",
       "        vertical-align: top;\n",
       "    }\n",
       "\n",
       "    .dataframe thead th {\n",
       "        text-align: right;\n",
       "    }\n",
       "</style>\n",
       "<table border=\"1\" class=\"dataframe\">\n",
       "  <thead>\n",
       "    <tr style=\"text-align: right;\">\n",
       "      <th></th>\n",
       "      <th>user_id</th>\n",
       "      <th>passed_course</th>\n",
       "    </tr>\n",
       "  </thead>\n",
       "  <tbody>\n",
       "    <tr>\n",
       "      <th>0</th>\n",
       "      <td>2</td>\n",
       "      <td>0</td>\n",
       "    </tr>\n",
       "    <tr>\n",
       "      <th>1</th>\n",
       "      <td>3</td>\n",
       "      <td>0</td>\n",
       "    </tr>\n",
       "    <tr>\n",
       "      <th>2</th>\n",
       "      <td>5</td>\n",
       "      <td>0</td>\n",
       "    </tr>\n",
       "    <tr>\n",
       "      <th>3</th>\n",
       "      <td>8</td>\n",
       "      <td>0</td>\n",
       "    </tr>\n",
       "    <tr>\n",
       "      <th>4</th>\n",
       "      <td>16</td>\n",
       "      <td>1</td>\n",
       "    </tr>\n",
       "  </tbody>\n",
       "</table>\n",
       "</div>"
      ],
      "text/plain": [
       "   user_id  passed_course\n",
       "0        2              0\n",
       "1        3              0\n",
       "2        5              0\n",
       "3        8              0\n",
       "4       16              1"
      ]
     },
     "execution_count": 30,
     "metadata": {},
     "output_type": "execute_result"
    }
   ],
   "source": [
    "# add a rule: if corrects are equal or more than 40, then we set user 'passed' the course\n",
    "users_count_correct['passed_course'] = (users_count_correct.corrects >= 40).astype('int')\n",
    "\n",
    "users_target_feature = users_count_correct.drop(['corrects'], axis=1)\n",
    "\n",
    "users_target_feature.head()"
   ]
  },
  {
   "cell_type": "markdown",
   "id": "2f73b35a-4718-45b4-8ccf-785bbe1bf3f0",
   "metadata": {
    "tags": []
   },
   "source": [
    "#### 4. Create time features"
   ]
  },
  {
   "cell_type": "code",
   "execution_count": 31,
   "id": "32561037-5a44-48c1-a524-e977c38a95c6",
   "metadata": {},
   "outputs": [],
   "source": [
    "# add columns with dates\n",
    "events_train_2days['date'] = pd.to_datetime(events_train_2days['timestamp'],\n",
    "                                           unit='s')\n",
    "events_train_2days['day'] = events_train_2days['date'].dt.date\n",
    "\n",
    "# create a table with users first/last actions and number of unique days spend on the course\n",
    "users_time_feature = events_train_2days.groupby('user_id') \\\n",
    "    .agg({'timestamp': ['min', 'max'], 'day': 'nunique'}) \\\n",
    "    .droplevel(level=0, axis=1) \\\n",
    "    .rename(columns={'nunique': 'days'}) \\\n",
    "    .reset_index()\n",
    "\n",
    "# add column with a difference between first and last action = time user spent on the course in hours\n",
    "users_time_feature['hours'] = round((users_time_feature['max'] - users_time_feature['min']) / 3600, 1)\n",
    "\n",
    "# drop 'min' and 'max' columns - we keep only time spent in hours\n",
    "users_time_feature = users_time_feature.drop(['max', 'min'], axis=1)"
   ]
  },
  {
   "cell_type": "code",
   "execution_count": 32,
   "id": "4b6a4439-4924-4171-bedb-69431d4c9a7b",
   "metadata": {},
   "outputs": [
    {
     "data": {
      "text/html": [
       "<div>\n",
       "<style scoped>\n",
       "    .dataframe tbody tr th:only-of-type {\n",
       "        vertical-align: middle;\n",
       "    }\n",
       "\n",
       "    .dataframe tbody tr th {\n",
       "        vertical-align: top;\n",
       "    }\n",
       "\n",
       "    .dataframe thead th {\n",
       "        text-align: right;\n",
       "    }\n",
       "</style>\n",
       "<table border=\"1\" class=\"dataframe\">\n",
       "  <thead>\n",
       "    <tr style=\"text-align: right;\">\n",
       "      <th></th>\n",
       "      <th>user_id</th>\n",
       "      <th>days</th>\n",
       "      <th>hours</th>\n",
       "    </tr>\n",
       "  </thead>\n",
       "  <tbody>\n",
       "    <tr>\n",
       "      <th>0</th>\n",
       "      <td>1</td>\n",
       "      <td>1</td>\n",
       "      <td>0.0</td>\n",
       "    </tr>\n",
       "    <tr>\n",
       "      <th>1</th>\n",
       "      <td>2</td>\n",
       "      <td>1</td>\n",
       "      <td>0.1</td>\n",
       "    </tr>\n",
       "    <tr>\n",
       "      <th>2</th>\n",
       "      <td>3</td>\n",
       "      <td>1</td>\n",
       "      <td>0.3</td>\n",
       "    </tr>\n",
       "    <tr>\n",
       "      <th>3</th>\n",
       "      <td>5</td>\n",
       "      <td>1</td>\n",
       "      <td>0.0</td>\n",
       "    </tr>\n",
       "    <tr>\n",
       "      <th>4</th>\n",
       "      <td>7</td>\n",
       "      <td>1</td>\n",
       "      <td>0.0</td>\n",
       "    </tr>\n",
       "  </tbody>\n",
       "</table>\n",
       "</div>"
      ],
      "text/plain": [
       "   user_id  days  hours\n",
       "0        1     1    0.0\n",
       "1        2     1    0.1\n",
       "2        3     1    0.3\n",
       "3        5     1    0.0\n",
       "4        7     1    0.0"
      ]
     },
     "execution_count": 32,
     "metadata": {},
     "output_type": "execute_result"
    }
   ],
   "source": [
    "users_time_feature.head()"
   ]
  },
  {
   "cell_type": "markdown",
   "id": "dd268c9a-6f23-428e-a742-48a776ce5b35",
   "metadata": {
    "tags": []
   },
   "source": [
    "#### 5. Combine all features and target variable"
   ]
  },
  {
   "cell_type": "code",
   "execution_count": 33,
   "id": "b83e09a2-e73d-4287-8b28-b672ee7fa191",
   "metadata": {},
   "outputs": [
    {
     "data": {
      "text/html": [
       "<div>\n",
       "<style scoped>\n",
       "    .dataframe tbody tr th:only-of-type {\n",
       "        vertical-align: middle;\n",
       "    }\n",
       "\n",
       "    .dataframe tbody tr th {\n",
       "        vertical-align: top;\n",
       "    }\n",
       "\n",
       "    .dataframe thead th {\n",
       "        text-align: right;\n",
       "    }\n",
       "</style>\n",
       "<table border=\"1\" class=\"dataframe\">\n",
       "  <thead>\n",
       "    <tr style=\"text-align: right;\">\n",
       "      <th></th>\n",
       "      <th>user_id</th>\n",
       "      <th>discovered</th>\n",
       "      <th>passed</th>\n",
       "      <th>started_attempt</th>\n",
       "      <th>viewed</th>\n",
       "      <th>correct</th>\n",
       "      <th>wrong</th>\n",
       "      <th>correct_ratio</th>\n",
       "      <th>steps_tried</th>\n",
       "      <th>days</th>\n",
       "      <th>hours</th>\n",
       "      <th>passed_course</th>\n",
       "    </tr>\n",
       "  </thead>\n",
       "  <tbody>\n",
       "    <tr>\n",
       "      <th>0</th>\n",
       "      <td>1</td>\n",
       "      <td>1</td>\n",
       "      <td>0</td>\n",
       "      <td>0</td>\n",
       "      <td>1</td>\n",
       "      <td>0.0</td>\n",
       "      <td>0.0</td>\n",
       "      <td>0.0</td>\n",
       "      <td>0.0</td>\n",
       "      <td>1</td>\n",
       "      <td>0.0</td>\n",
       "      <td>0.0</td>\n",
       "    </tr>\n",
       "    <tr>\n",
       "      <th>1</th>\n",
       "      <td>2</td>\n",
       "      <td>9</td>\n",
       "      <td>9</td>\n",
       "      <td>2</td>\n",
       "      <td>9</td>\n",
       "      <td>2.0</td>\n",
       "      <td>0.0</td>\n",
       "      <td>1.0</td>\n",
       "      <td>2.0</td>\n",
       "      <td>1</td>\n",
       "      <td>0.1</td>\n",
       "      <td>0.0</td>\n",
       "    </tr>\n",
       "    <tr>\n",
       "      <th>2</th>\n",
       "      <td>3</td>\n",
       "      <td>15</td>\n",
       "      <td>15</td>\n",
       "      <td>4</td>\n",
       "      <td>20</td>\n",
       "      <td>4.0</td>\n",
       "      <td>4.0</td>\n",
       "      <td>0.5</td>\n",
       "      <td>4.0</td>\n",
       "      <td>1</td>\n",
       "      <td>0.3</td>\n",
       "      <td>0.0</td>\n",
       "    </tr>\n",
       "    <tr>\n",
       "      <th>3</th>\n",
       "      <td>5</td>\n",
       "      <td>1</td>\n",
       "      <td>1</td>\n",
       "      <td>0</td>\n",
       "      <td>1</td>\n",
       "      <td>2.0</td>\n",
       "      <td>2.0</td>\n",
       "      <td>0.5</td>\n",
       "      <td>2.0</td>\n",
       "      <td>1</td>\n",
       "      <td>0.0</td>\n",
       "      <td>0.0</td>\n",
       "    </tr>\n",
       "    <tr>\n",
       "      <th>4</th>\n",
       "      <td>7</td>\n",
       "      <td>1</td>\n",
       "      <td>1</td>\n",
       "      <td>0</td>\n",
       "      <td>1</td>\n",
       "      <td>0.0</td>\n",
       "      <td>0.0</td>\n",
       "      <td>0.0</td>\n",
       "      <td>0.0</td>\n",
       "      <td>1</td>\n",
       "      <td>0.0</td>\n",
       "      <td>0.0</td>\n",
       "    </tr>\n",
       "  </tbody>\n",
       "</table>\n",
       "</div>"
      ],
      "text/plain": [
       "   user_id  discovered  passed  started_attempt  viewed  correct  wrong  \\\n",
       "0        1           1       0                0       1      0.0    0.0   \n",
       "1        2           9       9                2       9      2.0    0.0   \n",
       "2        3          15      15                4      20      4.0    4.0   \n",
       "3        5           1       1                0       1      2.0    2.0   \n",
       "4        7           1       1                0       1      0.0    0.0   \n",
       "\n",
       "   correct_ratio  steps_tried  days  hours  passed_course  \n",
       "0            0.0          0.0     1    0.0            0.0  \n",
       "1            1.0          2.0     1    0.1            0.0  \n",
       "2            0.5          4.0     1    0.3            0.0  \n",
       "3            0.5          2.0     1    0.0            0.0  \n",
       "4            0.0          0.0     1    0.0            0.0  "
      ]
     },
     "execution_count": 33,
     "metadata": {},
     "output_type": "execute_result"
    }
   ],
   "source": [
    "# merge with time feature\n",
    "users_data = users_data.merge(users_time_feature, how='outer')\n",
    "\n",
    "# add target variable\n",
    "users_data = users_data.merge(users_target_feature, how='outer').fillna(0)\n",
    "\n",
    "users_data.head()"
   ]
  },
  {
   "cell_type": "markdown",
   "id": "5f2562c7-3ea5-429a-8ebf-9961bf244385",
   "metadata": {
    "tags": []
   },
   "source": [
    "#### 6. Separate features from target and save them to X and y"
   ]
  },
  {
   "cell_type": "code",
   "execution_count": 34,
   "id": "8248d95e-24e5-4d28-a196-d2e94f35a143",
   "metadata": {},
   "outputs": [],
   "source": [
    "# get X\n",
    "X_train = users_data.drop(['passed_course'], axis=1)\n",
    "\n",
    "# get y\n",
    "y_train = users_data['passed_course'].map(int)"
   ]
  },
  {
   "cell_type": "markdown",
   "id": "9c77073e-4660-40b0-aaab-879a77d3eebd",
   "metadata": {
    "tags": []
   },
   "source": [
    "#### 7. Create a test df with the same features as our train df\n",
    "\n",
    "The test dfs we have already contains only the data about the first 2 days for each user. So, no need to cut it. The only thing we need is to combine all the features that we have in train dfs."
   ]
  },
  {
   "cell_type": "code",
   "execution_count": 35,
   "id": "cf2f59c1-8039-4c2a-a943-97c7fa18f5d4",
   "metadata": {},
   "outputs": [
    {
     "data": {
      "text/html": [
       "<div>\n",
       "<style scoped>\n",
       "    .dataframe tbody tr th:only-of-type {\n",
       "        vertical-align: middle;\n",
       "    }\n",
       "\n",
       "    .dataframe tbody tr th {\n",
       "        vertical-align: top;\n",
       "    }\n",
       "\n",
       "    .dataframe thead th {\n",
       "        text-align: right;\n",
       "    }\n",
       "</style>\n",
       "<table border=\"1\" class=\"dataframe\">\n",
       "  <thead>\n",
       "    <tr style=\"text-align: right;\">\n",
       "      <th></th>\n",
       "      <th>step_id</th>\n",
       "      <th>timestamp</th>\n",
       "      <th>action</th>\n",
       "      <th>user_id</th>\n",
       "    </tr>\n",
       "  </thead>\n",
       "  <tbody>\n",
       "    <tr>\n",
       "      <th>0</th>\n",
       "      <td>30456</td>\n",
       "      <td>1526893787</td>\n",
       "      <td>viewed</td>\n",
       "      <td>24417</td>\n",
       "    </tr>\n",
       "    <tr>\n",
       "      <th>1</th>\n",
       "      <td>30456</td>\n",
       "      <td>1526893797</td>\n",
       "      <td>viewed</td>\n",
       "      <td>24417</td>\n",
       "    </tr>\n",
       "    <tr>\n",
       "      <th>2</th>\n",
       "      <td>30456</td>\n",
       "      <td>1526893954</td>\n",
       "      <td>viewed</td>\n",
       "      <td>24417</td>\n",
       "    </tr>\n",
       "    <tr>\n",
       "      <th>3</th>\n",
       "      <td>30456</td>\n",
       "      <td>1526895780</td>\n",
       "      <td>viewed</td>\n",
       "      <td>24417</td>\n",
       "    </tr>\n",
       "    <tr>\n",
       "      <th>4</th>\n",
       "      <td>30456</td>\n",
       "      <td>1526893787</td>\n",
       "      <td>discovered</td>\n",
       "      <td>24417</td>\n",
       "    </tr>\n",
       "  </tbody>\n",
       "</table>\n",
       "</div>"
      ],
      "text/plain": [
       "   step_id   timestamp      action  user_id\n",
       "0    30456  1526893787      viewed    24417\n",
       "1    30456  1526893797      viewed    24417\n",
       "2    30456  1526893954      viewed    24417\n",
       "3    30456  1526895780      viewed    24417\n",
       "4    30456  1526893787  discovered    24417"
      ]
     },
     "execution_count": 35,
     "metadata": {},
     "output_type": "execute_result"
    }
   ],
   "source": [
    "events_data_test.head()"
   ]
  },
  {
   "cell_type": "code",
   "execution_count": 36,
   "id": "4cf74b02-a947-42be-a3c9-ea22c8b9999e",
   "metadata": {},
   "outputs": [
    {
     "data": {
      "text/html": [
       "<div>\n",
       "<style scoped>\n",
       "    .dataframe tbody tr th:only-of-type {\n",
       "        vertical-align: middle;\n",
       "    }\n",
       "\n",
       "    .dataframe tbody tr th {\n",
       "        vertical-align: top;\n",
       "    }\n",
       "\n",
       "    .dataframe thead th {\n",
       "        text-align: right;\n",
       "    }\n",
       "</style>\n",
       "<table border=\"1\" class=\"dataframe\">\n",
       "  <thead>\n",
       "    <tr style=\"text-align: right;\">\n",
       "      <th></th>\n",
       "      <th>step_id</th>\n",
       "      <th>timestamp</th>\n",
       "      <th>submission_status</th>\n",
       "      <th>user_id</th>\n",
       "    </tr>\n",
       "  </thead>\n",
       "  <tbody>\n",
       "    <tr>\n",
       "      <th>0</th>\n",
       "      <td>31971</td>\n",
       "      <td>1526800961</td>\n",
       "      <td>wrong</td>\n",
       "      <td>24370</td>\n",
       "    </tr>\n",
       "    <tr>\n",
       "      <th>1</th>\n",
       "      <td>31971</td>\n",
       "      <td>1526800976</td>\n",
       "      <td>wrong</td>\n",
       "      <td>24370</td>\n",
       "    </tr>\n",
       "    <tr>\n",
       "      <th>2</th>\n",
       "      <td>31971</td>\n",
       "      <td>1526800993</td>\n",
       "      <td>wrong</td>\n",
       "      <td>24370</td>\n",
       "    </tr>\n",
       "    <tr>\n",
       "      <th>3</th>\n",
       "      <td>31971</td>\n",
       "      <td>1526801054</td>\n",
       "      <td>correct</td>\n",
       "      <td>24370</td>\n",
       "    </tr>\n",
       "    <tr>\n",
       "      <th>4</th>\n",
       "      <td>31972</td>\n",
       "      <td>1526800664</td>\n",
       "      <td>wrong</td>\n",
       "      <td>24370</td>\n",
       "    </tr>\n",
       "  </tbody>\n",
       "</table>\n",
       "</div>"
      ],
      "text/plain": [
       "   step_id   timestamp submission_status  user_id\n",
       "0    31971  1526800961             wrong    24370\n",
       "1    31971  1526800976             wrong    24370\n",
       "2    31971  1526800993             wrong    24370\n",
       "3    31971  1526801054           correct    24370\n",
       "4    31972  1526800664             wrong    24370"
      ]
     },
     "execution_count": 36,
     "metadata": {},
     "output_type": "execute_result"
    }
   ],
   "source": [
    "submission_data_test.head()"
   ]
  },
  {
   "cell_type": "code",
   "execution_count": 37,
   "id": "51d21592-1ab0-40a4-9daa-82bb8e0aa635",
   "metadata": {},
   "outputs": [],
   "source": [
    "# user actions\n",
    "users_events_data_test = pd.pivot_table(data=events_data_test, \n",
    "                                   values='step_id', \n",
    "                                   index='user_id', \n",
    "                                   columns='action',\n",
    "                                   aggfunc='count', \n",
    "                                   fill_value=0) \\\n",
    "                                   .reset_index() \\\n",
    "                                   .rename_axis('', axis=1)"
   ]
  },
  {
   "cell_type": "code",
   "execution_count": 38,
   "id": "ea60562f-799c-448b-ac0e-392d23ed39e5",
   "metadata": {},
   "outputs": [],
   "source": [
    "# correct/wrong answers\n",
    "users_scores_test = pd.pivot_table(data=submission_data_test, \n",
    "                                   values='step_id', \n",
    "                                   index='user_id', \n",
    "                                   columns='submission_status',\n",
    "                                   aggfunc='count', \n",
    "                                   fill_value=0) \\\n",
    "                                   .reset_index() \\\n",
    "                                   .rename_axis('', axis=1)\n",
    "\n",
    "# add column with correct/wrong answers ratio\n",
    "users_scores_test['correct_ratio'] = (users_scores_test.correct / (users_scores_test.correct + users_scores_test.wrong)).fillna(0)"
   ]
  },
  {
   "cell_type": "code",
   "execution_count": 39,
   "id": "027b6370-4edf-4b59-b0c2-5ce3e263512f",
   "metadata": {},
   "outputs": [],
   "source": [
    "# number of steps that user tried to pass\n",
    "users_steps_tried_test = submission_data_test.groupby('user_id', as_index=False) \\\n",
    "    .step_id.nunique() \\\n",
    "    .rename(columns={'step_id': 'steps_tried'})"
   ]
  },
  {
   "cell_type": "code",
   "execution_count": 40,
   "id": "03b835c2-dce3-4632-9728-64f48628d0d9",
   "metadata": {},
   "outputs": [],
   "source": [
    "# combine all together\n",
    "users_data_test = pd.merge(users_events_data_test, users_scores_test,\n",
    "                      on='user_id', \n",
    "                      how='outer').fillna(0)\n",
    "\n",
    "users_data_test = users_data_test.merge(users_steps_tried_test, how='outer').fillna(0)"
   ]
  },
  {
   "cell_type": "code",
   "execution_count": 41,
   "id": "33556a9f-9573-42f2-be97-74768229ff78",
   "metadata": {},
   "outputs": [
    {
     "data": {
      "text/html": [
       "<div>\n",
       "<style scoped>\n",
       "    .dataframe tbody tr th:only-of-type {\n",
       "        vertical-align: middle;\n",
       "    }\n",
       "\n",
       "    .dataframe tbody tr th {\n",
       "        vertical-align: top;\n",
       "    }\n",
       "\n",
       "    .dataframe thead th {\n",
       "        text-align: right;\n",
       "    }\n",
       "</style>\n",
       "<table border=\"1\" class=\"dataframe\">\n",
       "  <thead>\n",
       "    <tr style=\"text-align: right;\">\n",
       "      <th></th>\n",
       "      <th>user_id</th>\n",
       "      <th>discovered</th>\n",
       "      <th>passed</th>\n",
       "      <th>started_attempt</th>\n",
       "      <th>viewed</th>\n",
       "      <th>correct</th>\n",
       "      <th>wrong</th>\n",
       "      <th>correct_ratio</th>\n",
       "      <th>steps_tried</th>\n",
       "    </tr>\n",
       "  </thead>\n",
       "  <tbody>\n",
       "    <tr>\n",
       "      <th>0</th>\n",
       "      <td>4</td>\n",
       "      <td>1</td>\n",
       "      <td>1</td>\n",
       "      <td>0</td>\n",
       "      <td>1</td>\n",
       "      <td>0.0</td>\n",
       "      <td>0.0</td>\n",
       "      <td>0.000000</td>\n",
       "      <td>0.0</td>\n",
       "    </tr>\n",
       "    <tr>\n",
       "      <th>1</th>\n",
       "      <td>6</td>\n",
       "      <td>1</td>\n",
       "      <td>1</td>\n",
       "      <td>0</td>\n",
       "      <td>1</td>\n",
       "      <td>0.0</td>\n",
       "      <td>0.0</td>\n",
       "      <td>0.000000</td>\n",
       "      <td>0.0</td>\n",
       "    </tr>\n",
       "    <tr>\n",
       "      <th>2</th>\n",
       "      <td>10</td>\n",
       "      <td>2</td>\n",
       "      <td>2</td>\n",
       "      <td>0</td>\n",
       "      <td>6</td>\n",
       "      <td>0.0</td>\n",
       "      <td>0.0</td>\n",
       "      <td>0.000000</td>\n",
       "      <td>0.0</td>\n",
       "    </tr>\n",
       "    <tr>\n",
       "      <th>3</th>\n",
       "      <td>12</td>\n",
       "      <td>11</td>\n",
       "      <td>9</td>\n",
       "      <td>4</td>\n",
       "      <td>14</td>\n",
       "      <td>1.0</td>\n",
       "      <td>0.0</td>\n",
       "      <td>1.000000</td>\n",
       "      <td>1.0</td>\n",
       "    </tr>\n",
       "    <tr>\n",
       "      <th>4</th>\n",
       "      <td>13</td>\n",
       "      <td>70</td>\n",
       "      <td>70</td>\n",
       "      <td>35</td>\n",
       "      <td>105</td>\n",
       "      <td>29.0</td>\n",
       "      <td>36.0</td>\n",
       "      <td>0.446154</td>\n",
       "      <td>29.0</td>\n",
       "    </tr>\n",
       "  </tbody>\n",
       "</table>\n",
       "</div>"
      ],
      "text/plain": [
       "   user_id  discovered  passed  started_attempt  viewed  correct  wrong  \\\n",
       "0        4           1       1                0       1      0.0    0.0   \n",
       "1        6           1       1                0       1      0.0    0.0   \n",
       "2       10           2       2                0       6      0.0    0.0   \n",
       "3       12          11       9                4      14      1.0    0.0   \n",
       "4       13          70      70               35     105     29.0   36.0   \n",
       "\n",
       "   correct_ratio  steps_tried  \n",
       "0       0.000000          0.0  \n",
       "1       0.000000          0.0  \n",
       "2       0.000000          0.0  \n",
       "3       1.000000          1.0  \n",
       "4       0.446154         29.0  "
      ]
     },
     "execution_count": 41,
     "metadata": {},
     "output_type": "execute_result"
    }
   ],
   "source": [
    "users_data_test.head()"
   ]
  },
  {
   "cell_type": "code",
   "execution_count": 42,
   "id": "1c69f003-240e-4657-aeca-c314c9b13079",
   "metadata": {},
   "outputs": [
    {
     "data": {
      "text/plain": [
       "True"
      ]
     },
     "execution_count": 42,
     "metadata": {},
     "output_type": "execute_result"
    }
   ],
   "source": [
    "# Nothing lost\n",
    "users_data_test.user_id.nunique() == events_data_test.user_id.nunique()"
   ]
  },
  {
   "cell_type": "code",
   "execution_count": 43,
   "id": "cc9bee7f-2024-4817-9dc6-33de097af80a",
   "metadata": {},
   "outputs": [],
   "source": [
    "# time features\n",
    "# add columns with dates\n",
    "events_data_test['date'] = pd.to_datetime(events_data_test['timestamp'],\n",
    "                                           unit='s')\n",
    "events_data_test['day'] = events_data_test['date'].dt.date\n",
    "\n",
    "# create a table with users first/last actions and number of unique days spend on the course\n",
    "users_time_feature_test = events_data_test.groupby('user_id') \\\n",
    "    .agg({'timestamp': ['min', 'max'], 'day': 'nunique'}) \\\n",
    "    .droplevel(level=0, axis=1) \\\n",
    "    .rename(columns={'nunique': 'days'}) \\\n",
    "    .reset_index()\n",
    "\n",
    "# add column with a difference between first and last action = time user spent on the course in hours\n",
    "users_time_feature_test['hours'] = round((users_time_feature_test['max'] - users_time_feature_test['min']) / 3600, 1)\n",
    "\n",
    "# drop 'min' and 'max' columns - we keep only time spent in hours\n",
    "users_time_feature_test = users_time_feature_test.drop(['max', 'min'], axis=1)"
   ]
  },
  {
   "cell_type": "code",
   "execution_count": 44,
   "id": "e045499a-8ec4-42e5-a156-5b03db6e0eee",
   "metadata": {},
   "outputs": [],
   "source": [
    "# combine base features with time features\n",
    "users_data_test = users_data_test.merge(users_time_feature_test, how='outer')"
   ]
  },
  {
   "cell_type": "code",
   "execution_count": 45,
   "id": "97535627-36c8-417e-ab22-37b586546505",
   "metadata": {},
   "outputs": [],
   "source": [
    "# so this would be our X_test\n",
    "X_test = users_data_test"
   ]
  },
  {
   "cell_type": "markdown",
   "id": "33270f2a-b5f7-49eb-bf2c-65fff5d04a5b",
   "metadata": {
    "tags": []
   },
   "source": [
    "#### 8. Model Training"
   ]
  },
  {
   "cell_type": "code",
   "execution_count": 46,
   "id": "3af7f424-2249-40d8-8748-53c89042314a",
   "metadata": {},
   "outputs": [
    {
     "name": "stdout",
     "output_type": "stream",
     "text": [
      "Best parameters: {'max_depth': 7, 'n_estimators': 35}\n",
      "Accuracy on a training dataset: 0.91\n",
      "Roc score: 0.8765632311346764\n"
     ]
    }
   ],
   "source": [
    "# finding the best parameters for a Random Forest model, \n",
    "# training on our train data \n",
    "\n",
    "X_tr, X_te, y_tr, y_te = train_test_split(X_train, y_train, test_size=0.20, random_state=42)\n",
    "\n",
    "params = {'n_estimators': range(20, 51, 3), 'max_depth': range(5, 15)}\n",
    "\n",
    "clf = RandomForestClassifier()\n",
    "\n",
    "grid_clf = GridSearchCV(clf, param_grid=params, cv=5, n_jobs=-1)\n",
    "grid_clf.fit(X_tr, y_tr)\n",
    "\n",
    "print(f'Best parameters: {grid_clf.best_params_}')\n",
    "      \n",
    "ypred_prob = grid_clf.predict_proba(X_te)\n",
    "roc_score = roc_auc_score(y_te, ypred_prob[:,1])\n",
    "score = grid_clf.score(X_te, y_te)\n",
    "\n",
    "print(f'Accuracy on a training dataset: {score:.2f}')\n",
    "print(f'Roc score: {roc_score}')"
   ]
  },
  {
   "cell_type": "markdown",
   "id": "542de4c2-f6ca-4548-b629-2706454d3dca",
   "metadata": {
    "tags": []
   },
   "source": [
    "#### 9. Run the model on our test data for predictions"
   ]
  },
  {
   "cell_type": "code",
   "execution_count": 59,
   "id": "e1c6a4da-8af3-487c-b3c7-1254d896ad28",
   "metadata": {},
   "outputs": [
    {
     "name": "stdout",
     "output_type": "stream",
     "text": [
      "Accuracy on the train dataset: 0.904\n",
      "Roc-auc score on the train dataset: 0.87655\n"
     ]
    }
   ],
   "source": [
    "# Run the model with best parameters\n",
    "X_tr, X_te, y_tr, y_te = train_test_split(X_train, y_train, test_size=0.20, random_state=42)\n",
    "clf_best = RandomForestClassifier(max_depth=7, n_estimators=35, random_state=42)\n",
    "clf_best.fit(X_tr, y_tr)\n",
    "\n",
    "ypred_prob = clf_best.predict_proba(X_te)\n",
    "\n",
    "roc_score = roc_auc_score(y_te, ypred_prob[:,1])\n",
    "score = clf_best.score(X_te, y_te)\n",
    "\n",
    "print(f'Accuracy on the train dataset: {score:.3f}')\n",
    "print(f'Roc-auc score on the train dataset: {roc_score:.5f}')\n",
    "\n",
    "feature_importances = clf_best.feature_importances_\n",
    "feature_importances_df = pd.DataFrame({'features': list(X_train), \n",
    "                                       'feature_importances': feature_importances}) \\\n",
    "                                        .sort_values('feature_importances', ascending=False)\n",
    "\n",
    "ypred_prob_final = clf_best.predict_proba(X_test)"
   ]
  },
  {
   "cell_type": "code",
   "execution_count": 53,
   "id": "be84bfb4-091a-4e20-9583-45ae9f61eb5f",
   "metadata": {},
   "outputs": [
    {
     "data": {
      "text/html": [
       "<div>\n",
       "<style scoped>\n",
       "    .dataframe tbody tr th:only-of-type {\n",
       "        vertical-align: middle;\n",
       "    }\n",
       "\n",
       "    .dataframe tbody tr th {\n",
       "        vertical-align: top;\n",
       "    }\n",
       "\n",
       "    .dataframe thead th {\n",
       "        text-align: right;\n",
       "    }\n",
       "</style>\n",
       "<table border=\"1\" class=\"dataframe\">\n",
       "  <thead>\n",
       "    <tr style=\"text-align: right;\">\n",
       "      <th></th>\n",
       "      <th>features</th>\n",
       "      <th>feature_importances</th>\n",
       "    </tr>\n",
       "  </thead>\n",
       "  <tbody>\n",
       "    <tr>\n",
       "      <th>8</th>\n",
       "      <td>steps_tried</td>\n",
       "      <td>0.301864</td>\n",
       "    </tr>\n",
       "    <tr>\n",
       "      <th>5</th>\n",
       "      <td>correct</td>\n",
       "      <td>0.257177</td>\n",
       "    </tr>\n",
       "    <tr>\n",
       "      <th>2</th>\n",
       "      <td>passed</td>\n",
       "      <td>0.096773</td>\n",
       "    </tr>\n",
       "    <tr>\n",
       "      <th>3</th>\n",
       "      <td>started_attempt</td>\n",
       "      <td>0.082460</td>\n",
       "    </tr>\n",
       "    <tr>\n",
       "      <th>7</th>\n",
       "      <td>correct_ratio</td>\n",
       "      <td>0.054779</td>\n",
       "    </tr>\n",
       "    <tr>\n",
       "      <th>10</th>\n",
       "      <td>hours</td>\n",
       "      <td>0.051610</td>\n",
       "    </tr>\n",
       "    <tr>\n",
       "      <th>4</th>\n",
       "      <td>viewed</td>\n",
       "      <td>0.044872</td>\n",
       "    </tr>\n",
       "    <tr>\n",
       "      <th>1</th>\n",
       "      <td>discovered</td>\n",
       "      <td>0.036833</td>\n",
       "    </tr>\n",
       "    <tr>\n",
       "      <th>0</th>\n",
       "      <td>user_id</td>\n",
       "      <td>0.032811</td>\n",
       "    </tr>\n",
       "    <tr>\n",
       "      <th>6</th>\n",
       "      <td>wrong</td>\n",
       "      <td>0.030943</td>\n",
       "    </tr>\n",
       "    <tr>\n",
       "      <th>9</th>\n",
       "      <td>days</td>\n",
       "      <td>0.009879</td>\n",
       "    </tr>\n",
       "  </tbody>\n",
       "</table>\n",
       "</div>"
      ],
      "text/plain": [
       "           features  feature_importances\n",
       "8       steps_tried             0.301864\n",
       "5           correct             0.257177\n",
       "2            passed             0.096773\n",
       "3   started_attempt             0.082460\n",
       "7     correct_ratio             0.054779\n",
       "10            hours             0.051610\n",
       "4            viewed             0.044872\n",
       "1        discovered             0.036833\n",
       "0           user_id             0.032811\n",
       "6             wrong             0.030943\n",
       "9              days             0.009879"
      ]
     },
     "execution_count": 53,
     "metadata": {},
     "output_type": "execute_result"
    }
   ],
   "source": [
    "feature_importances_df"
   ]
  },
  {
   "cell_type": "markdown",
   "id": "76310d08-123f-4d9e-97ca-26a7f45be003",
   "metadata": {
    "tags": []
   },
   "source": [
    "#### 10. Make predictions on the test dataset"
   ]
  },
  {
   "cell_type": "code",
   "execution_count": 54,
   "id": "bbb9dcdf-17b9-4489-b419-3a7e2e009417",
   "metadata": {},
   "outputs": [],
   "source": [
    "result = X_test['user_id'].to_frame().sort_values('user_id')\n",
    "result['is_gone'] = ypred_prob_final[:,1]"
   ]
  },
  {
   "cell_type": "code",
   "execution_count": 55,
   "id": "9a5f45ae-3671-4204-b91b-4989db291058",
   "metadata": {},
   "outputs": [
    {
     "data": {
      "text/html": [
       "<div>\n",
       "<style scoped>\n",
       "    .dataframe tbody tr th:only-of-type {\n",
       "        vertical-align: middle;\n",
       "    }\n",
       "\n",
       "    .dataframe tbody tr th {\n",
       "        vertical-align: top;\n",
       "    }\n",
       "\n",
       "    .dataframe thead th {\n",
       "        text-align: right;\n",
       "    }\n",
       "</style>\n",
       "<table border=\"1\" class=\"dataframe\">\n",
       "  <thead>\n",
       "    <tr style=\"text-align: right;\">\n",
       "      <th></th>\n",
       "      <th>user_id</th>\n",
       "      <th>is_gone</th>\n",
       "    </tr>\n",
       "  </thead>\n",
       "  <tbody>\n",
       "    <tr>\n",
       "      <th>0</th>\n",
       "      <td>4</td>\n",
       "      <td>0.000038</td>\n",
       "    </tr>\n",
       "    <tr>\n",
       "      <th>1</th>\n",
       "      <td>6</td>\n",
       "      <td>0.000038</td>\n",
       "    </tr>\n",
       "    <tr>\n",
       "      <th>2</th>\n",
       "      <td>10</td>\n",
       "      <td>0.000038</td>\n",
       "    </tr>\n",
       "    <tr>\n",
       "      <th>3</th>\n",
       "      <td>12</td>\n",
       "      <td>0.072936</td>\n",
       "    </tr>\n",
       "    <tr>\n",
       "      <th>4</th>\n",
       "      <td>13</td>\n",
       "      <td>0.662574</td>\n",
       "    </tr>\n",
       "  </tbody>\n",
       "</table>\n",
       "</div>"
      ],
      "text/plain": [
       "   user_id   is_gone\n",
       "0        4  0.000038\n",
       "1        6  0.000038\n",
       "2       10  0.000038\n",
       "3       12  0.072936\n",
       "4       13  0.662574"
      ]
     },
     "execution_count": 55,
     "metadata": {},
     "output_type": "execute_result"
    }
   ],
   "source": [
    "result.head()"
   ]
  },
  {
   "cell_type": "code",
   "execution_count": 56,
   "id": "ba10e2df-d76b-43f7-9275-5b3443786f06",
   "metadata": {},
   "outputs": [
    {
     "name": "stdout",
     "output_type": "stream",
     "text": [
      "Results saved in my_predict_0.87655.csv\n"
     ]
    }
   ],
   "source": [
    "#result.to_csv(f'my_predict_{roc_score:.5f}.csv', index=False)\n",
    "print(f'Results saved in my_predict_{roc_score:.5f}.csv')"
   ]
  },
  {
   "cell_type": "code",
   "execution_count": null,
   "id": "f6d9dacb-1ca7-49b7-84b6-70c5bd18e700",
   "metadata": {},
   "outputs": [],
   "source": []
  }
 ],
 "metadata": {
  "kernelspec": {
   "display_name": "Python 3 (ipykernel)",
   "language": "python",
   "name": "python3"
  },
  "language_info": {
   "codemirror_mode": {
    "name": "ipython",
    "version": 3
   },
   "file_extension": ".py",
   "mimetype": "text/x-python",
   "name": "python",
   "nbconvert_exporter": "python",
   "pygments_lexer": "ipython3",
   "version": "3.9.12"
  }
 },
 "nbformat": 4,
 "nbformat_minor": 5
}
