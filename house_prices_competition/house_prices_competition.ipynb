{
 "cells": [
  {
   "cell_type": "markdown",
   "id": "38bba3b4-aee9-4fc8-8df5-65d12ad897b3",
   "metadata": {},
   "source": [
    "## House Prices Kaggle Competition\n",
    "_______"
   ]
  },
  {
   "cell_type": "code",
   "execution_count": 1,
   "id": "9db6aeb4-4c6c-4ae7-b4bf-fad6ac001bcb",
   "metadata": {},
   "outputs": [],
   "source": [
    "import pandas as pd\n",
    "import numpy as np\n",
    "from sklearn.preprocessing import OrdinalEncoder, OneHotEncoder\n",
    "from sklearn.model_selection import train_test_split\n",
    "from sklearn.compose import ColumnTransformer\n",
    "from sklearn.pipeline import Pipeline\n",
    "from sklearn.impute import SimpleImputer\n",
    "from xgboost import XGBRegressor"
   ]
  },
  {
   "cell_type": "code",
   "execution_count": 2,
   "id": "a54929c6-5009-4377-9110-836bdcb7df7a",
   "metadata": {},
   "outputs": [],
   "source": [
    "# load data\n",
    "train_df = pd.read_csv('data/train.csv', index_col='Id')\n",
    "test_df = pd.read_csv('data/test.csv', index_col='Id')\n",
    "X_test = test_df.copy()"
   ]
  },
  {
   "cell_type": "code",
   "execution_count": 3,
   "id": "f7bf206a-1665-47b2-a33b-345b9ef6ae75",
   "metadata": {},
   "outputs": [
    {
     "data": {
      "text/html": [
       "<div>\n",
       "<style scoped>\n",
       "    .dataframe tbody tr th:only-of-type {\n",
       "        vertical-align: middle;\n",
       "    }\n",
       "\n",
       "    .dataframe tbody tr th {\n",
       "        vertical-align: top;\n",
       "    }\n",
       "\n",
       "    .dataframe thead th {\n",
       "        text-align: right;\n",
       "    }\n",
       "</style>\n",
       "<table border=\"1\" class=\"dataframe\">\n",
       "  <thead>\n",
       "    <tr style=\"text-align: right;\">\n",
       "      <th></th>\n",
       "      <th>MSSubClass</th>\n",
       "      <th>MSZoning</th>\n",
       "      <th>LotFrontage</th>\n",
       "      <th>LotArea</th>\n",
       "      <th>Street</th>\n",
       "      <th>Alley</th>\n",
       "      <th>LotShape</th>\n",
       "      <th>LandContour</th>\n",
       "      <th>Utilities</th>\n",
       "      <th>LotConfig</th>\n",
       "      <th>...</th>\n",
       "      <th>PoolArea</th>\n",
       "      <th>PoolQC</th>\n",
       "      <th>Fence</th>\n",
       "      <th>MiscFeature</th>\n",
       "      <th>MiscVal</th>\n",
       "      <th>MoSold</th>\n",
       "      <th>YrSold</th>\n",
       "      <th>SaleType</th>\n",
       "      <th>SaleCondition</th>\n",
       "      <th>SalePrice</th>\n",
       "    </tr>\n",
       "    <tr>\n",
       "      <th>Id</th>\n",
       "      <th></th>\n",
       "      <th></th>\n",
       "      <th></th>\n",
       "      <th></th>\n",
       "      <th></th>\n",
       "      <th></th>\n",
       "      <th></th>\n",
       "      <th></th>\n",
       "      <th></th>\n",
       "      <th></th>\n",
       "      <th></th>\n",
       "      <th></th>\n",
       "      <th></th>\n",
       "      <th></th>\n",
       "      <th></th>\n",
       "      <th></th>\n",
       "      <th></th>\n",
       "      <th></th>\n",
       "      <th></th>\n",
       "      <th></th>\n",
       "      <th></th>\n",
       "    </tr>\n",
       "  </thead>\n",
       "  <tbody>\n",
       "    <tr>\n",
       "      <th>1</th>\n",
       "      <td>60</td>\n",
       "      <td>RL</td>\n",
       "      <td>65.0</td>\n",
       "      <td>8450</td>\n",
       "      <td>Pave</td>\n",
       "      <td>NaN</td>\n",
       "      <td>Reg</td>\n",
       "      <td>Lvl</td>\n",
       "      <td>AllPub</td>\n",
       "      <td>Inside</td>\n",
       "      <td>...</td>\n",
       "      <td>0</td>\n",
       "      <td>NaN</td>\n",
       "      <td>NaN</td>\n",
       "      <td>NaN</td>\n",
       "      <td>0</td>\n",
       "      <td>2</td>\n",
       "      <td>2008</td>\n",
       "      <td>WD</td>\n",
       "      <td>Normal</td>\n",
       "      <td>208500</td>\n",
       "    </tr>\n",
       "    <tr>\n",
       "      <th>2</th>\n",
       "      <td>20</td>\n",
       "      <td>RL</td>\n",
       "      <td>80.0</td>\n",
       "      <td>9600</td>\n",
       "      <td>Pave</td>\n",
       "      <td>NaN</td>\n",
       "      <td>Reg</td>\n",
       "      <td>Lvl</td>\n",
       "      <td>AllPub</td>\n",
       "      <td>FR2</td>\n",
       "      <td>...</td>\n",
       "      <td>0</td>\n",
       "      <td>NaN</td>\n",
       "      <td>NaN</td>\n",
       "      <td>NaN</td>\n",
       "      <td>0</td>\n",
       "      <td>5</td>\n",
       "      <td>2007</td>\n",
       "      <td>WD</td>\n",
       "      <td>Normal</td>\n",
       "      <td>181500</td>\n",
       "    </tr>\n",
       "    <tr>\n",
       "      <th>3</th>\n",
       "      <td>60</td>\n",
       "      <td>RL</td>\n",
       "      <td>68.0</td>\n",
       "      <td>11250</td>\n",
       "      <td>Pave</td>\n",
       "      <td>NaN</td>\n",
       "      <td>IR1</td>\n",
       "      <td>Lvl</td>\n",
       "      <td>AllPub</td>\n",
       "      <td>Inside</td>\n",
       "      <td>...</td>\n",
       "      <td>0</td>\n",
       "      <td>NaN</td>\n",
       "      <td>NaN</td>\n",
       "      <td>NaN</td>\n",
       "      <td>0</td>\n",
       "      <td>9</td>\n",
       "      <td>2008</td>\n",
       "      <td>WD</td>\n",
       "      <td>Normal</td>\n",
       "      <td>223500</td>\n",
       "    </tr>\n",
       "    <tr>\n",
       "      <th>4</th>\n",
       "      <td>70</td>\n",
       "      <td>RL</td>\n",
       "      <td>60.0</td>\n",
       "      <td>9550</td>\n",
       "      <td>Pave</td>\n",
       "      <td>NaN</td>\n",
       "      <td>IR1</td>\n",
       "      <td>Lvl</td>\n",
       "      <td>AllPub</td>\n",
       "      <td>Corner</td>\n",
       "      <td>...</td>\n",
       "      <td>0</td>\n",
       "      <td>NaN</td>\n",
       "      <td>NaN</td>\n",
       "      <td>NaN</td>\n",
       "      <td>0</td>\n",
       "      <td>2</td>\n",
       "      <td>2006</td>\n",
       "      <td>WD</td>\n",
       "      <td>Abnorml</td>\n",
       "      <td>140000</td>\n",
       "    </tr>\n",
       "    <tr>\n",
       "      <th>5</th>\n",
       "      <td>60</td>\n",
       "      <td>RL</td>\n",
       "      <td>84.0</td>\n",
       "      <td>14260</td>\n",
       "      <td>Pave</td>\n",
       "      <td>NaN</td>\n",
       "      <td>IR1</td>\n",
       "      <td>Lvl</td>\n",
       "      <td>AllPub</td>\n",
       "      <td>FR2</td>\n",
       "      <td>...</td>\n",
       "      <td>0</td>\n",
       "      <td>NaN</td>\n",
       "      <td>NaN</td>\n",
       "      <td>NaN</td>\n",
       "      <td>0</td>\n",
       "      <td>12</td>\n",
       "      <td>2008</td>\n",
       "      <td>WD</td>\n",
       "      <td>Normal</td>\n",
       "      <td>250000</td>\n",
       "    </tr>\n",
       "  </tbody>\n",
       "</table>\n",
       "<p>5 rows × 80 columns</p>\n",
       "</div>"
      ],
      "text/plain": [
       "    MSSubClass MSZoning  LotFrontage  LotArea Street Alley LotShape  \\\n",
       "Id                                                                    \n",
       "1           60       RL         65.0     8450   Pave   NaN      Reg   \n",
       "2           20       RL         80.0     9600   Pave   NaN      Reg   \n",
       "3           60       RL         68.0    11250   Pave   NaN      IR1   \n",
       "4           70       RL         60.0     9550   Pave   NaN      IR1   \n",
       "5           60       RL         84.0    14260   Pave   NaN      IR1   \n",
       "\n",
       "   LandContour Utilities LotConfig  ... PoolArea PoolQC Fence MiscFeature  \\\n",
       "Id                                  ...                                     \n",
       "1          Lvl    AllPub    Inside  ...        0    NaN   NaN         NaN   \n",
       "2          Lvl    AllPub       FR2  ...        0    NaN   NaN         NaN   \n",
       "3          Lvl    AllPub    Inside  ...        0    NaN   NaN         NaN   \n",
       "4          Lvl    AllPub    Corner  ...        0    NaN   NaN         NaN   \n",
       "5          Lvl    AllPub       FR2  ...        0    NaN   NaN         NaN   \n",
       "\n",
       "   MiscVal MoSold  YrSold  SaleType  SaleCondition  SalePrice  \n",
       "Id                                                             \n",
       "1        0      2    2008        WD         Normal     208500  \n",
       "2        0      5    2007        WD         Normal     181500  \n",
       "3        0      9    2008        WD         Normal     223500  \n",
       "4        0      2    2006        WD        Abnorml     140000  \n",
       "5        0     12    2008        WD         Normal     250000  \n",
       "\n",
       "[5 rows x 80 columns]"
      ]
     },
     "execution_count": 3,
     "metadata": {},
     "output_type": "execute_result"
    }
   ],
   "source": [
    "train_df.head()"
   ]
  },
  {
   "cell_type": "code",
   "execution_count": 4,
   "id": "9f5a5960-8019-4a3c-bf23-2a66fe9e8914",
   "metadata": {},
   "outputs": [
    {
     "data": {
      "text/plain": [
       "True"
      ]
     },
     "execution_count": 4,
     "metadata": {},
     "output_type": "execute_result"
    }
   ],
   "source": [
    "all(np.array(test_df.columns)) == all(np.array(train_df.columns[:-1]))"
   ]
  },
  {
   "cell_type": "code",
   "execution_count": 5,
   "id": "c01fb8f2-2686-4234-9308-64806d676ea6",
   "metadata": {},
   "outputs": [],
   "source": [
    "# select target\n",
    "y = train_df.SalePrice"
   ]
  },
  {
   "cell_type": "markdown",
   "id": "ecbca34f-d10e-4ddc-9616-41e275032b63",
   "metadata": {},
   "source": [
    "#### I will use XGBoost to make predictions for house prices.\n",
    "XGBoost can't deal with missing values and categorical varibales, so I need to preprocess data.\n",
    "\n",
    "Firstly, I need to split train data into 'categorical' and 'numerical' variables, then find variables with missing values. Also I will divide categorical variable into 2 groups by the way I will encode them - ordinaly or with one-hot encoding."
   ]
  },
  {
   "cell_type": "markdown",
   "id": "07dc76b5-1a5c-4160-acfa-7813a48cbbd3",
   "metadata": {},
   "source": [
    "Firstly, define the lists:\n",
    "- `cols_num` - numerical variables\n",
    "- `cols_cat_ord` - categorical variables for ordinal encoding\n",
    "- `cols_cat_oh` - categorical variables for One-Hot encoding `cols_oh`"
   ]
  },
  {
   "cell_type": "code",
   "execution_count": 6,
   "id": "12b727c8-22e2-4895-a0e0-390b7cb26867",
   "metadata": {},
   "outputs": [],
   "source": [
    "cols_cat_ord = []\n",
    "cols_cat_oh = []\n",
    "cols_num = []"
   ]
  },
  {
   "cell_type": "markdown",
   "id": "df21b6dd-de0c-4b72-b9a7-8842c060178d",
   "metadata": {},
   "source": [
    "#### Finding columns with missing Data"
   ]
  },
  {
   "cell_type": "code",
   "execution_count": 7,
   "id": "6db1eaa7-c697-4baa-9ed7-25c6a83c44be",
   "metadata": {},
   "outputs": [],
   "source": [
    "X_full = train_df.drop('SalePrice', axis=1)"
   ]
  },
  {
   "cell_type": "code",
   "execution_count": 8,
   "id": "47f1f3a5-7ea7-4e67-b5f5-2b46a0ae5fae",
   "metadata": {},
   "outputs": [],
   "source": [
    "cols_with_missing_values = [col for col in X_full.columns if X_full[col].isna().any()]"
   ]
  },
  {
   "cell_type": "code",
   "execution_count": 9,
   "id": "3c91c7fe-1cee-4d3c-b468-7be225a3f6d2",
   "metadata": {},
   "outputs": [
    {
     "data": {
      "text/plain": [
       "['LotFrontage',\n",
       " 'Alley',\n",
       " 'MasVnrType',\n",
       " 'MasVnrArea',\n",
       " 'BsmtQual',\n",
       " 'BsmtCond',\n",
       " 'BsmtExposure',\n",
       " 'BsmtFinType1',\n",
       " 'BsmtFinType2',\n",
       " 'Electrical',\n",
       " 'FireplaceQu',\n",
       " 'GarageType',\n",
       " 'GarageYrBlt',\n",
       " 'GarageFinish',\n",
       " 'GarageQual',\n",
       " 'GarageCond',\n",
       " 'PoolQC',\n",
       " 'Fence',\n",
       " 'MiscFeature']"
      ]
     },
     "execution_count": 9,
     "metadata": {},
     "output_type": "execute_result"
    }
   ],
   "source": [
    "# we have several columns with missing values\n",
    "cols_with_missing_values"
   ]
  },
  {
   "cell_type": "code",
   "execution_count": 10,
   "id": "779c43c3-083d-4b37-9a9b-782520e91f18",
   "metadata": {},
   "outputs": [
    {
     "data": {
      "text/plain": [
       "PoolQC          1453\n",
       "MiscFeature     1406\n",
       "Alley           1369\n",
       "Fence           1179\n",
       "FireplaceQu      690\n",
       "LotFrontage      259\n",
       "GarageType        81\n",
       "GarageYrBlt       81\n",
       "GarageFinish      81\n",
       "GarageQual        81\n",
       "GarageCond        81\n",
       "BsmtExposure      38\n",
       "BsmtFinType2      38\n",
       "BsmtFinType1      37\n",
       "BsmtCond          37\n",
       "BsmtQual          37\n",
       "MasVnrArea         8\n",
       "MasVnrType         8\n",
       "Electrical         1\n",
       "dtype: int64"
      ]
     },
     "execution_count": 10,
     "metadata": {},
     "output_type": "execute_result"
    }
   ],
   "source": [
    "# let's find out how many missing values are there in each column\n",
    "X_full[cols_with_missing_values].isnull().sum().sort_values(ascending=False)"
   ]
  },
  {
   "cell_type": "code",
   "execution_count": 11,
   "id": "303cb941-151b-4681-8c75-b846fdb97c66",
   "metadata": {},
   "outputs": [
    {
     "data": {
      "text/plain": [
       "(1460, 79)"
      ]
     },
     "execution_count": 11,
     "metadata": {},
     "output_type": "execute_result"
    }
   ],
   "source": [
    "X_full.shape"
   ]
  },
  {
   "cell_type": "markdown",
   "id": "ef4be4f1-4093-4f8f-a399-43719f324164",
   "metadata": {},
   "source": [
    "#### Let's go through each column with missing values and decide what to do"
   ]
  },
  {
   "cell_type": "markdown",
   "id": "1ee02042-89b3-4e1a-a657-97a4126c819b",
   "metadata": {},
   "source": [
    "__1) 'PoolQC'__\n",
    "\n",
    "This is a categorical variable. According to description 'PoolQC' is a column with pool quality and NAs mean that there's no pool in the house.\n",
    "But there are only few real values the rest are missing, so I will just drop this column"
   ]
  },
  {
   "cell_type": "code",
   "execution_count": 12,
   "id": "0c90ca10-1d8d-4ffe-8f08-b89808bddc9e",
   "metadata": {},
   "outputs": [
    {
     "data": {
      "text/plain": [
       "NaN    1453\n",
       "Gd        3\n",
       "Ex        2\n",
       "Fa        2\n",
       "Name: PoolQC, dtype: int64"
      ]
     },
     "execution_count": 12,
     "metadata": {},
     "output_type": "execute_result"
    }
   ],
   "source": [
    "X_full.PoolQC.value_counts(dropna=False)"
   ]
  },
  {
   "cell_type": "code",
   "execution_count": 13,
   "id": "a7a12896-bdc1-43ad-ac15-082f82c83c4b",
   "metadata": {},
   "outputs": [
    {
     "data": {
      "text/plain": [
       "0.9952054794520548"
      ]
     },
     "execution_count": 13,
     "metadata": {},
     "output_type": "execute_result"
    }
   ],
   "source": [
    "X_full.PoolQC.isna().sum() / X_full.shape[0]"
   ]
  },
  {
   "cell_type": "code",
   "execution_count": 14,
   "id": "e1b4ad53-68a3-4178-ae54-d4d5c9d89241",
   "metadata": {},
   "outputs": [],
   "source": [
    "X_full = X_full.drop('PoolQC', axis=1)\n",
    "X_test = X_test.drop('PoolQC', axis=1)"
   ]
  },
  {
   "cell_type": "markdown",
   "id": "0e60fd6d-7583-4b13-b6ae-9937093cb8f3",
   "metadata": {},
   "source": [
    "__2) 'MiscFeature'__\n",
    "\n",
    "This is a categorical variable. Here we have more than 96% of missing values. Basically, we can drop this column. However, there are 54 values that can potentially affect on the house price. So, we can change `NA` to `0` and all the rest values to `1`. This will convert this column into a numerical variable. "
   ]
  },
  {
   "cell_type": "code",
   "execution_count": 15,
   "id": "1d055f20-8afa-44ab-87d3-c8568787615a",
   "metadata": {},
   "outputs": [
    {
     "data": {
      "text/plain": [
       "NaN     1406\n",
       "Shed      49\n",
       "Gar2       2\n",
       "Othr       2\n",
       "TenC       1\n",
       "Name: MiscFeature, dtype: int64"
      ]
     },
     "execution_count": 15,
     "metadata": {},
     "output_type": "execute_result"
    }
   ],
   "source": [
    "X_full.MiscFeature.value_counts(dropna=False)"
   ]
  },
  {
   "cell_type": "code",
   "execution_count": 16,
   "id": "ef93372c-f54c-4e0c-b02d-4e704119f28d",
   "metadata": {},
   "outputs": [
    {
     "data": {
      "text/plain": [
       "0.963013698630137"
      ]
     },
     "execution_count": 16,
     "metadata": {},
     "output_type": "execute_result"
    }
   ],
   "source": [
    "X_full.MiscFeature.isna().sum() / X_full.shape[0]"
   ]
  },
  {
   "cell_type": "code",
   "execution_count": 17,
   "id": "c5bbe889-374e-4bfe-8b68-8f0c6a9082fa",
   "metadata": {},
   "outputs": [],
   "source": [
    "X_full.MiscFeature = X_full.MiscFeature.fillna(0)\n",
    "X_full.loc[X_full.MiscFeature != 0, 'MiscFeature'] = 1\n",
    "cols_num.append('MiscFeature')"
   ]
  },
  {
   "cell_type": "code",
   "execution_count": 18,
   "id": "1962258f-7dae-4817-b74d-5391f1a25073",
   "metadata": {},
   "outputs": [
    {
     "data": {
      "text/plain": [
       "0    1406\n",
       "1      54\n",
       "Name: MiscFeature, dtype: int64"
      ]
     },
     "execution_count": 18,
     "metadata": {},
     "output_type": "execute_result"
    }
   ],
   "source": [
    "X_full.MiscFeature.value_counts(dropna=False)"
   ]
  },
  {
   "cell_type": "code",
   "execution_count": 19,
   "id": "479ca6e5-fbb0-4b98-9586-ad74a0fd3e19",
   "metadata": {},
   "outputs": [],
   "source": [
    "# do the same with X_test\n",
    "X_test.MiscFeature = X_test.MiscFeature.fillna(0)\n",
    "X_test.loc[X_test.MiscFeature != 0, 'MiscFeature'] = 1"
   ]
  },
  {
   "cell_type": "code",
   "execution_count": 20,
   "id": "4dd6213f-ec9c-4c27-aec4-402ae61c4f80",
   "metadata": {},
   "outputs": [
    {
     "data": {
      "text/plain": [
       "0    1408\n",
       "1      51\n",
       "Name: MiscFeature, dtype: int64"
      ]
     },
     "execution_count": 20,
     "metadata": {},
     "output_type": "execute_result"
    }
   ],
   "source": [
    "X_test.MiscFeature.value_counts()"
   ]
  },
  {
   "cell_type": "markdown",
   "id": "5b1f3383-48a3-4b43-ab79-67e14ba3f157",
   "metadata": {},
   "source": [
    "__3) 'Alley'__\n",
    "\n",
    "This is a categorical variable. Here we have more than 93% of missing values. \n",
    "Basically, I will drop this column."
   ]
  },
  {
   "cell_type": "code",
   "execution_count": 21,
   "id": "28d24521-8e7d-4be7-8532-acf7e2f79df1",
   "metadata": {},
   "outputs": [
    {
     "data": {
      "text/plain": [
       "0.9376712328767123"
      ]
     },
     "execution_count": 21,
     "metadata": {},
     "output_type": "execute_result"
    }
   ],
   "source": [
    "X_full.Alley.isna().sum() / X_full.shape[0]"
   ]
  },
  {
   "cell_type": "code",
   "execution_count": 22,
   "id": "58410b76-7a6e-432f-b14b-783a0f907c3f",
   "metadata": {},
   "outputs": [],
   "source": [
    "X_full = X_full.drop('Alley', axis=1)\n",
    "X_test = X_test.drop('Alley', axis=1)"
   ]
  },
  {
   "cell_type": "markdown",
   "id": "d1a23ffb-5d3a-4f09-918a-d1d86d04b359",
   "metadata": {},
   "source": [
    "__4) 'Fence'__\n",
    "\n",
    "This is a categorical variable. Here we have more than 80% of missing values. \n",
    "`Nan` means that there's no fence around the house. Missing values to be imputed with `SimpleImputer` and then all values will be ordinally encoded with `OrdinalEncoder`."
   ]
  },
  {
   "cell_type": "code",
   "execution_count": 23,
   "id": "ec77a89e-ae45-4749-8768-03cdaa77c973",
   "metadata": {},
   "outputs": [
    {
     "data": {
      "text/plain": [
       "NaN      1179\n",
       "MnPrv     157\n",
       "GdPrv      59\n",
       "GdWo       54\n",
       "MnWw       11\n",
       "Name: Fence, dtype: int64"
      ]
     },
     "execution_count": 23,
     "metadata": {},
     "output_type": "execute_result"
    }
   ],
   "source": [
    "X_full.Fence.value_counts(dropna=False)"
   ]
  },
  {
   "cell_type": "code",
   "execution_count": 24,
   "id": "3024c85e-c405-4cf3-ad7a-d47bd5df5ee4",
   "metadata": {},
   "outputs": [
    {
     "data": {
      "text/plain": [
       "0.8075342465753425"
      ]
     },
     "execution_count": 24,
     "metadata": {},
     "output_type": "execute_result"
    }
   ],
   "source": [
    "X_full.Fence.isna().sum() / X_full.shape[0]"
   ]
  },
  {
   "cell_type": "code",
   "execution_count": 25,
   "id": "3423dba3-6b47-4d7d-9029-bd4097caea32",
   "metadata": {},
   "outputs": [],
   "source": [
    "cols_cat_ord.append('Fence')"
   ]
  },
  {
   "cell_type": "markdown",
   "id": "cac1afd4-c5ff-4e91-b0fc-08e99b5c5d65",
   "metadata": {},
   "source": [
    "__5) 'FireplaceQu'__\n",
    "\n",
    "This is a categorical variable that can be Ordinaly encoded after assigning `No` to missing values."
   ]
  },
  {
   "cell_type": "code",
   "execution_count": 26,
   "id": "c0873a6b-e879-4614-a224-bbf8996c3641",
   "metadata": {},
   "outputs": [
    {
     "data": {
      "text/plain": [
       "NaN    690\n",
       "Gd     380\n",
       "TA     313\n",
       "Fa      33\n",
       "Ex      24\n",
       "Po      20\n",
       "Name: FireplaceQu, dtype: int64"
      ]
     },
     "execution_count": 26,
     "metadata": {},
     "output_type": "execute_result"
    }
   ],
   "source": [
    "X_full.FireplaceQu.value_counts(dropna=False)"
   ]
  },
  {
   "cell_type": "code",
   "execution_count": 27,
   "id": "90874fcc-efde-4dc6-98bc-48f900580bb6",
   "metadata": {},
   "outputs": [],
   "source": [
    "cols_cat_ord.append('FireplaceQu')"
   ]
  },
  {
   "cell_type": "markdown",
   "id": "c4b88b57-742a-4f18-b7a7-2b70b5fec1a6",
   "metadata": {},
   "source": [
    "__6) 'LotFrontage'__\n",
    "\n",
    "This is a numerical variable. Although there are quite many missing values, we may impute them with 'mean' value using `SimpleImputer` later."
   ]
  },
  {
   "cell_type": "code",
   "execution_count": 28,
   "id": "1844c576-4427-415e-81ca-dc3410947fcd",
   "metadata": {},
   "outputs": [
    {
     "data": {
      "text/plain": [
       "NaN      259\n",
       "60.0     143\n",
       "70.0      70\n",
       "80.0      69\n",
       "50.0      57\n",
       "        ... \n",
       "137.0      1\n",
       "38.0       1\n",
       "33.0       1\n",
       "150.0      1\n",
       "46.0       1\n",
       "Name: LotFrontage, Length: 111, dtype: int64"
      ]
     },
     "execution_count": 28,
     "metadata": {},
     "output_type": "execute_result"
    }
   ],
   "source": [
    "X_full.LotFrontage.value_counts(dropna=False)"
   ]
  },
  {
   "cell_type": "code",
   "execution_count": 29,
   "id": "86afc6e9-8f3b-455d-9e5c-a61b488fbfa1",
   "metadata": {},
   "outputs": [
    {
     "data": {
      "text/plain": [
       "count    1201.000000\n",
       "mean       70.049958\n",
       "std        24.284752\n",
       "min        21.000000\n",
       "25%        59.000000\n",
       "50%        69.000000\n",
       "75%        80.000000\n",
       "max       313.000000\n",
       "Name: LotFrontage, dtype: float64"
      ]
     },
     "execution_count": 29,
     "metadata": {},
     "output_type": "execute_result"
    }
   ],
   "source": [
    "X_full.LotFrontage.describe()"
   ]
  },
  {
   "cell_type": "code",
   "execution_count": 30,
   "id": "7063f228-533a-4131-98ca-85ff110c0f4f",
   "metadata": {},
   "outputs": [],
   "source": [
    "cols_num.append('LotFrontage')"
   ]
  },
  {
   "cell_type": "markdown",
   "id": "080281af-9b68-4e3d-b6a6-67ab04274a46",
   "metadata": {},
   "source": [
    "__7-11) GarageType, GarageYrBlt, GarageFinish, GarageQual, GarageCond__\n",
    "\n",
    "All these columns have the same amount of missing values (81). Those `NA`'s mean that there's no garage in the house. Besides that, there are differencies in types of the variables among them."
   ]
  },
  {
   "cell_type": "markdown",
   "id": "41f9a1d9-65dc-4478-b9b9-0d913698acbe",
   "metadata": {},
   "source": [
    "__GarageType__ is a categorical variable and I will apply One-Hot encoding to it "
   ]
  },
  {
   "cell_type": "code",
   "execution_count": 31,
   "id": "5d1682c5-c427-435b-a36f-3831b4b17dc2",
   "metadata": {},
   "outputs": [
    {
     "data": {
      "text/plain": [
       "Attchd     870\n",
       "Detchd     387\n",
       "BuiltIn     88\n",
       "NaN         81\n",
       "Basment     19\n",
       "CarPort      9\n",
       "2Types       6\n",
       "Name: GarageType, dtype: int64"
      ]
     },
     "execution_count": 31,
     "metadata": {},
     "output_type": "execute_result"
    }
   ],
   "source": [
    "X_full['GarageType'].value_counts(dropna=False)"
   ]
  },
  {
   "cell_type": "code",
   "execution_count": 32,
   "id": "fd37578b-db3e-4b91-b6a4-475eaf9ad44e",
   "metadata": {},
   "outputs": [],
   "source": [
    "cols_cat_oh.append('GarageType')"
   ]
  },
  {
   "cell_type": "markdown",
   "id": "40d9053e-aa30-42d4-8734-f08ff266d37e",
   "metadata": {},
   "source": [
    "__GarageYrBlt__ is a column with numerical values, where missing years can be imputed with mean value"
   ]
  },
  {
   "cell_type": "code",
   "execution_count": 33,
   "id": "b9ca210e-a25b-4844-a56e-70b6f6ea2b39",
   "metadata": {},
   "outputs": [
    {
     "data": {
      "text/plain": [
       "NaN       81\n",
       "2005.0    65\n",
       "2006.0    59\n",
       "2004.0    53\n",
       "2003.0    50\n",
       "          ..\n",
       "1927.0     1\n",
       "1900.0     1\n",
       "1906.0     1\n",
       "1908.0     1\n",
       "1933.0     1\n",
       "Name: GarageYrBlt, Length: 98, dtype: int64"
      ]
     },
     "execution_count": 33,
     "metadata": {},
     "output_type": "execute_result"
    }
   ],
   "source": [
    "X_full.GarageYrBlt.value_counts(dropna=False)"
   ]
  },
  {
   "cell_type": "code",
   "execution_count": 34,
   "id": "035a6758-8c51-4a67-970a-5328d459ffa3",
   "metadata": {},
   "outputs": [],
   "source": [
    "cols_num.append('GarageYrBlt')"
   ]
  },
  {
   "cell_type": "markdown",
   "id": "2b199ee7-f0b5-4c75-a7eb-23048b8ae6be",
   "metadata": {},
   "source": [
    "__GarageFinish__ is a column with categorical values, where missing values can be imputed using `SimpleImputer`. The values can be ordinally encoded."
   ]
  },
  {
   "cell_type": "code",
   "execution_count": 35,
   "id": "6026a9c3-febb-4145-b7c1-f42ce31a5b33",
   "metadata": {},
   "outputs": [
    {
     "data": {
      "text/plain": [
       "Unf    605\n",
       "RFn    422\n",
       "Fin    352\n",
       "NaN     81\n",
       "Name: GarageFinish, dtype: int64"
      ]
     },
     "execution_count": 35,
     "metadata": {},
     "output_type": "execute_result"
    }
   ],
   "source": [
    "X_full.GarageFinish.value_counts(dropna=False)"
   ]
  },
  {
   "cell_type": "code",
   "execution_count": 36,
   "id": "67e9886d-53ce-4912-a3d8-76ebfdf9dc8a",
   "metadata": {},
   "outputs": [],
   "source": [
    "cols_cat_ord.append('GarageFinish')"
   ]
  },
  {
   "cell_type": "markdown",
   "id": "ef34f4ce-7c0c-4d7d-861b-714ad9215379",
   "metadata": {},
   "source": [
    "__GarageQual__ is a column with categorical values, where missing values can be imputed using `SimpleImputer`. The values then can be ordinally encoded."
   ]
  },
  {
   "cell_type": "code",
   "execution_count": 37,
   "id": "0e95f62d-3ce6-42cd-9caf-78e26e78dede",
   "metadata": {},
   "outputs": [
    {
     "data": {
      "text/plain": [
       "TA     1311\n",
       "NaN      81\n",
       "Fa       48\n",
       "Gd       14\n",
       "Ex        3\n",
       "Po        3\n",
       "Name: GarageQual, dtype: int64"
      ]
     },
     "execution_count": 37,
     "metadata": {},
     "output_type": "execute_result"
    }
   ],
   "source": [
    "X_full.GarageQual.value_counts(dropna=False)"
   ]
  },
  {
   "cell_type": "code",
   "execution_count": 38,
   "id": "8b1c8f8e-41b3-4749-9634-ffb015643ed1",
   "metadata": {},
   "outputs": [],
   "source": [
    "cols_cat_ord.append('GarageQual')"
   ]
  },
  {
   "cell_type": "markdown",
   "id": "5772f613-d60d-4240-9430-ec92fd6a69f1",
   "metadata": {},
   "source": [
    "__GarageCond__ is a column with categorical values, where missing values can be imputed using `SimpleImputer`. The values then can be ordinally encoded."
   ]
  },
  {
   "cell_type": "code",
   "execution_count": 39,
   "id": "2b5aa543-269e-49ca-9b85-b6ca41232e2d",
   "metadata": {},
   "outputs": [
    {
     "data": {
      "text/plain": [
       "TA     1326\n",
       "NaN      81\n",
       "Fa       35\n",
       "Gd        9\n",
       "Po        7\n",
       "Ex        2\n",
       "Name: GarageCond, dtype: int64"
      ]
     },
     "execution_count": 39,
     "metadata": {},
     "output_type": "execute_result"
    }
   ],
   "source": [
    "X_full.GarageCond.value_counts(dropna=False)"
   ]
  },
  {
   "cell_type": "code",
   "execution_count": 40,
   "id": "ab8c4aab-a137-4ef2-a7ed-6b71f788629d",
   "metadata": {},
   "outputs": [],
   "source": [
    "cols_cat_ord.append('GarageCond')"
   ]
  },
  {
   "cell_type": "markdown",
   "id": "ebbe18a0-1b35-4cd7-b910-5e7edc782664",
   "metadata": {},
   "source": [
    "__12-16) BsmtExposure, BsmtFinType2, BsmtFinType1, BsmtCond, BsmtQual__\n",
    "\n",
    "Columns with information about basement. Obviously no values means no basement"
   ]
  },
  {
   "cell_type": "markdown",
   "id": "d8609bf6-5efe-49d1-86bf-058a71449c26",
   "metadata": {},
   "source": [
    "__BsmtExposure__ is a column with categorical values, where missing values can be imputed using `SimpleImputer`. The values then can be ordinally encoded."
   ]
  },
  {
   "cell_type": "code",
   "execution_count": 41,
   "id": "6ca0550c-c02f-45ae-82cf-87bf76c10155",
   "metadata": {},
   "outputs": [
    {
     "data": {
      "text/plain": [
       "No     953\n",
       "Av     221\n",
       "Gd     134\n",
       "Mn     114\n",
       "NaN     38\n",
       "Name: BsmtExposure, dtype: int64"
      ]
     },
     "execution_count": 41,
     "metadata": {},
     "output_type": "execute_result"
    }
   ],
   "source": [
    "X_full.BsmtExposure.value_counts(dropna=False)"
   ]
  },
  {
   "cell_type": "code",
   "execution_count": 42,
   "id": "337bdc1c-7dce-476e-841a-4b84adb42547",
   "metadata": {},
   "outputs": [],
   "source": [
    "cols_cat_ord.append('BsmtExposure')"
   ]
  },
  {
   "cell_type": "markdown",
   "id": "27103705-9974-4f16-a231-1ae58477b269",
   "metadata": {},
   "source": [
    "__BsmtFinType2__ is a column with categorical values, where missing values can be imputed using `SimpleImputer`. The values then can be ordinally encoded."
   ]
  },
  {
   "cell_type": "code",
   "execution_count": 43,
   "id": "15d4c0a1-99b6-46c2-b03c-121d17d94a65",
   "metadata": {},
   "outputs": [
    {
     "data": {
      "text/plain": [
       "Unf    1256\n",
       "Rec      54\n",
       "LwQ      46\n",
       "NaN      38\n",
       "BLQ      33\n",
       "ALQ      19\n",
       "GLQ      14\n",
       "Name: BsmtFinType2, dtype: int64"
      ]
     },
     "execution_count": 43,
     "metadata": {},
     "output_type": "execute_result"
    }
   ],
   "source": [
    "X_full.BsmtFinType2.value_counts(dropna=False)"
   ]
  },
  {
   "cell_type": "code",
   "execution_count": 44,
   "id": "dffcfec1-a1ec-48df-900b-95a2a233a1be",
   "metadata": {},
   "outputs": [],
   "source": [
    "cols_cat_ord.append('BsmtFinType2')"
   ]
  },
  {
   "cell_type": "markdown",
   "id": "500cdbf6-e47d-42be-b307-badb007c291f",
   "metadata": {},
   "source": [
    "__BsmtFinType1__ is a column with categorical values, where missing values can be imputed using `SimpleImputer`. The values then can be ordinally encoded."
   ]
  },
  {
   "cell_type": "code",
   "execution_count": 45,
   "id": "8345172f-9ab7-4b7c-948d-89cc397e0fd8",
   "metadata": {},
   "outputs": [
    {
     "data": {
      "text/plain": [
       "Unf    430\n",
       "GLQ    418\n",
       "ALQ    220\n",
       "BLQ    148\n",
       "Rec    133\n",
       "LwQ     74\n",
       "NaN     37\n",
       "Name: BsmtFinType1, dtype: int64"
      ]
     },
     "execution_count": 45,
     "metadata": {},
     "output_type": "execute_result"
    }
   ],
   "source": [
    "X_full.BsmtFinType1.value_counts(dropna=False)"
   ]
  },
  {
   "cell_type": "code",
   "execution_count": 46,
   "id": "0773f38d-8d5f-4edb-aa08-815ba0dfea75",
   "metadata": {},
   "outputs": [],
   "source": [
    "cols_cat_ord.append('BsmtFinType1')"
   ]
  },
  {
   "cell_type": "markdown",
   "id": "782391b5-e38d-4d4a-b38b-76f17373af22",
   "metadata": {},
   "source": [
    "__BsmtCond__ is a column with categorical values, where missing values can be imputed using `SimpleImputer`. The values then can be ordinally encoded."
   ]
  },
  {
   "cell_type": "code",
   "execution_count": 47,
   "id": "10595c5a-18e2-4bbc-8681-7da0d1d011cc",
   "metadata": {},
   "outputs": [
    {
     "data": {
      "text/plain": [
       "TA     1311\n",
       "Gd       65\n",
       "Fa       45\n",
       "NaN      37\n",
       "Po        2\n",
       "Name: BsmtCond, dtype: int64"
      ]
     },
     "execution_count": 47,
     "metadata": {},
     "output_type": "execute_result"
    }
   ],
   "source": [
    "X_full.BsmtCond.value_counts(dropna=False)"
   ]
  },
  {
   "cell_type": "code",
   "execution_count": 48,
   "id": "ff27d330-4784-4f5b-b007-bd3c0a762e59",
   "metadata": {},
   "outputs": [],
   "source": [
    "cols_cat_ord.append('BsmtCond')"
   ]
  },
  {
   "cell_type": "markdown",
   "id": "b5ccbc34-b001-460f-ae1c-e458be2337b4",
   "metadata": {},
   "source": [
    "__BsmtQual__ is a column with categorical values, where missing values can be imputed using `SimpleImputer`. The values then can be ordinally encoded."
   ]
  },
  {
   "cell_type": "code",
   "execution_count": 49,
   "id": "4d95506b-9b16-4705-b302-1bb4d0a26b4c",
   "metadata": {},
   "outputs": [
    {
     "data": {
      "text/plain": [
       "TA     649\n",
       "Gd     618\n",
       "Ex     121\n",
       "NaN     37\n",
       "Fa      35\n",
       "Name: BsmtQual, dtype: int64"
      ]
     },
     "execution_count": 49,
     "metadata": {},
     "output_type": "execute_result"
    }
   ],
   "source": [
    "X_full.BsmtQual.value_counts(dropna=False)"
   ]
  },
  {
   "cell_type": "code",
   "execution_count": 50,
   "id": "de8ddc2e-c73e-474f-801b-1fedd463f48e",
   "metadata": {},
   "outputs": [],
   "source": [
    "cols_cat_ord.append('BsmtQual')"
   ]
  },
  {
   "cell_type": "markdown",
   "id": "1ba78fcd-623f-4496-83d0-67d04133b3a6",
   "metadata": {},
   "source": [
    "__17-18) MasVnrArea, MasVnrType__\n",
    "\n",
    "Only 8 missing values and these 8 missing values are in the same rows"
   ]
  },
  {
   "cell_type": "code",
   "execution_count": 51,
   "id": "b0f4fba1-6f68-464f-9018-e71f291a68f6",
   "metadata": {},
   "outputs": [
    {
     "data": {
      "text/plain": [
       "0.0      861\n",
       "NaN        8\n",
       "72.0       8\n",
       "108.0      8\n",
       "180.0      8\n",
       "        ... \n",
       "562.0      1\n",
       "89.0       1\n",
       "921.0      1\n",
       "762.0      1\n",
       "119.0      1\n",
       "Name: MasVnrArea, Length: 328, dtype: int64"
      ]
     },
     "execution_count": 51,
     "metadata": {},
     "output_type": "execute_result"
    }
   ],
   "source": [
    "X_full.MasVnrArea.value_counts(dropna=False)"
   ]
  },
  {
   "cell_type": "code",
   "execution_count": 52,
   "id": "cc167995-b179-42ec-8a92-ed8ee59b9f9f",
   "metadata": {},
   "outputs": [
    {
     "data": {
      "text/plain": [
       "None       864\n",
       "BrkFace    445\n",
       "Stone      128\n",
       "BrkCmn      15\n",
       "NaN          8\n",
       "Name: MasVnrType, dtype: int64"
      ]
     },
     "execution_count": 52,
     "metadata": {},
     "output_type": "execute_result"
    }
   ],
   "source": [
    "X_full.MasVnrType.value_counts(dropna=False)"
   ]
  },
  {
   "cell_type": "code",
   "execution_count": 53,
   "id": "5647777c-0ab2-4302-9a2e-2b66e566c9ed",
   "metadata": {},
   "outputs": [
    {
     "data": {
      "text/html": [
       "<div>\n",
       "<style scoped>\n",
       "    .dataframe tbody tr th:only-of-type {\n",
       "        vertical-align: middle;\n",
       "    }\n",
       "\n",
       "    .dataframe tbody tr th {\n",
       "        vertical-align: top;\n",
       "    }\n",
       "\n",
       "    .dataframe thead th {\n",
       "        text-align: right;\n",
       "    }\n",
       "</style>\n",
       "<table border=\"1\" class=\"dataframe\">\n",
       "  <thead>\n",
       "    <tr style=\"text-align: right;\">\n",
       "      <th></th>\n",
       "      <th>MasVnrType</th>\n",
       "      <th>MasVnrArea</th>\n",
       "    </tr>\n",
       "    <tr>\n",
       "      <th>Id</th>\n",
       "      <th></th>\n",
       "      <th></th>\n",
       "    </tr>\n",
       "  </thead>\n",
       "  <tbody>\n",
       "    <tr>\n",
       "      <th>235</th>\n",
       "      <td>NaN</td>\n",
       "      <td>NaN</td>\n",
       "    </tr>\n",
       "    <tr>\n",
       "      <th>530</th>\n",
       "      <td>NaN</td>\n",
       "      <td>NaN</td>\n",
       "    </tr>\n",
       "    <tr>\n",
       "      <th>651</th>\n",
       "      <td>NaN</td>\n",
       "      <td>NaN</td>\n",
       "    </tr>\n",
       "    <tr>\n",
       "      <th>937</th>\n",
       "      <td>NaN</td>\n",
       "      <td>NaN</td>\n",
       "    </tr>\n",
       "    <tr>\n",
       "      <th>974</th>\n",
       "      <td>NaN</td>\n",
       "      <td>NaN</td>\n",
       "    </tr>\n",
       "    <tr>\n",
       "      <th>978</th>\n",
       "      <td>NaN</td>\n",
       "      <td>NaN</td>\n",
       "    </tr>\n",
       "    <tr>\n",
       "      <th>1244</th>\n",
       "      <td>NaN</td>\n",
       "      <td>NaN</td>\n",
       "    </tr>\n",
       "    <tr>\n",
       "      <th>1279</th>\n",
       "      <td>NaN</td>\n",
       "      <td>NaN</td>\n",
       "    </tr>\n",
       "  </tbody>\n",
       "</table>\n",
       "</div>"
      ],
      "text/plain": [
       "     MasVnrType  MasVnrArea\n",
       "Id                         \n",
       "235         NaN         NaN\n",
       "530         NaN         NaN\n",
       "651         NaN         NaN\n",
       "937         NaN         NaN\n",
       "974         NaN         NaN\n",
       "978         NaN         NaN\n",
       "1244        NaN         NaN\n",
       "1279        NaN         NaN"
      ]
     },
     "execution_count": 53,
     "metadata": {},
     "output_type": "execute_result"
    }
   ],
   "source": [
    "X_full[X_full.MasVnrType.isna() | X_full.MasVnrArea.isna()][['MasVnrType','MasVnrArea']]"
   ]
  },
  {
   "cell_type": "markdown",
   "id": "90711cd3-5447-40ff-9d09-c00dd5da410d",
   "metadata": {},
   "source": [
    "So, missing values in numerical 'MasVnrArea' will be replaced with '0.0' and in categorical 'MasVnrType' with 'None' in both train and test datasets"
   ]
  },
  {
   "cell_type": "code",
   "execution_count": 54,
   "id": "59b81401-dea7-4e4e-a744-427aea643ff2",
   "metadata": {},
   "outputs": [],
   "source": [
    "X_full.MasVnrType = X_full.MasVnrType.fillna('None')\n",
    "X_test.MasVnrType = X_test.MasVnrType.fillna('None')\n",
    "\n",
    "cols_cat_oh.append('MasVnrType')\n",
    "\n",
    "X_full.MasVnrArea = X_full.MasVnrArea.fillna(0.0)\n",
    "X_test.MasVnrArea = X_test.MasVnrArea.fillna(0.0)\n",
    "\n",
    "cols_num.append('MasVnrArea')"
   ]
  },
  {
   "cell_type": "markdown",
   "id": "e91cedd6-a89f-4e6e-8047-a64fec1aaf26",
   "metadata": {},
   "source": [
    "__19) Electrical__\n",
    "\n",
    "Categorical variable with only 1 missing value which can be imputed with most frequent value (SBrkr). Then good to be one-hot encoded."
   ]
  },
  {
   "cell_type": "code",
   "execution_count": 55,
   "id": "3ab1e590-45f0-4662-b4aa-2c1a8294efa8",
   "metadata": {},
   "outputs": [
    {
     "data": {
      "text/plain": [
       "SBrkr    1334\n",
       "FuseA      94\n",
       "FuseF      27\n",
       "FuseP       3\n",
       "Mix         1\n",
       "NaN         1\n",
       "Name: Electrical, dtype: int64"
      ]
     },
     "execution_count": 55,
     "metadata": {},
     "output_type": "execute_result"
    }
   ],
   "source": [
    "X_full.Electrical.value_counts(dropna=False)"
   ]
  },
  {
   "cell_type": "code",
   "execution_count": 56,
   "id": "a0b1a66a-9ad2-413d-80f7-92e1890f0618",
   "metadata": {},
   "outputs": [],
   "source": [
    "X_full.Electrical = X_full.Electrical.fillna(X_full.Electrical.mode().iloc[0])\n",
    "X_test.Electrical = X_test.Electrical.fillna(X_test.Electrical.mode().iloc[0])"
   ]
  },
  {
   "cell_type": "markdown",
   "id": "c217ab82-44d7-4139-91a5-75296597f3e0",
   "metadata": {},
   "source": [
    "#### Also found residuals in some variables that spoil the transform, so need to remove them"
   ]
  },
  {
   "cell_type": "code",
   "execution_count": 57,
   "id": "21a81cc2-8ca2-4969-babe-1531b9bdb713",
   "metadata": {},
   "outputs": [],
   "source": [
    "X_test.loc[X_test.HeatingQC == 'Po', 'HeatingQC'] = 'Fa'\n",
    "X_full.loc[X_full.HeatingQC == 'Po', 'HeatingQC'] = 'Fa'\n",
    "\n",
    "X_test.loc[X_test.ExterCond == 'Po', 'ExterCond'] = 'Fa'\n",
    "X_full.loc[X_full.ExterCond == 'Po', 'ExterCond'] = 'Fa'\n",
    "\n",
    "X_test.loc[X_test.BsmtCond == 'Po', 'BsmtCond'] = 'Fa'\n",
    "X_full.loc[X_full.BsmtCond == 'Po', 'BsmtCond'] = 'Fa'\n",
    "\n",
    "X_test.loc[X_test.GarageCond == 'Ex', 'GarageCond'] = 'Gd'\n",
    "X_full.loc[X_full.GarageCond == 'Ex', 'GarageCond'] = 'Gd'\n",
    "\n",
    "X_full.loc[X_full.HouseStyle == '2.5Fin', 'HouseStyle'] = '2Story'"
   ]
  },
  {
   "cell_type": "markdown",
   "id": "95f3af10-e7d9-4cb5-9693-d47e1e1c64f0",
   "metadata": {
    "tags": []
   },
   "source": [
    "#### Now all the columns with missing values either deleted or updated and/or splitted into different groups of variables. \n",
    "\n",
    "Note that for numerical values we can impute all left missing values with 'mean' value, so we don't need our `cols_num` list anymore as we apply the same `SimpleImputer` to all the numerical variables.\n",
    "\n",
    "For categorical variables we will impute missing values with 'missing_values' also using `SimpleImputer`.\n",
    "\n",
    "But, we discovered only the columns with missing values, so need to proceed with all the rest."
   ]
  },
  {
   "cell_type": "markdown",
   "id": "2209287f-a8a1-4a49-a06e-8cf3125aa028",
   "metadata": {},
   "source": [
    "#### A list of all numerical variables:"
   ]
  },
  {
   "cell_type": "code",
   "execution_count": 58,
   "id": "4bce470f-e47c-4960-a39e-4dd29e7de092",
   "metadata": {},
   "outputs": [],
   "source": [
    "num_cols = [col for col in X_full.columns if X_full[col].dtype in ['int64', 'float64']]"
   ]
  },
  {
   "cell_type": "markdown",
   "id": "6ebbad2b-705d-4f27-9cc8-e5dd0b469561",
   "metadata": {},
   "source": [
    "#### Categorical variable should be divided by the type on encoding:"
   ]
  },
  {
   "cell_type": "code",
   "execution_count": 59,
   "id": "6b8a1b8e-ee57-4e34-a392-feb4fc549e45",
   "metadata": {},
   "outputs": [],
   "source": [
    "cols_to_be_divided = [col for col in X_full.columns if X_full[col].dtype == 'object'\n",
    "                      and col not in (cols_cat_ord + cols_cat_oh)]"
   ]
  },
  {
   "cell_type": "code",
   "execution_count": 60,
   "id": "e1f01158-216c-4a8d-96ec-b94bcb7fc5ee",
   "metadata": {},
   "outputs": [],
   "source": [
    "for col in cols_to_be_divided:\n",
    "    if 'Gd' in X_full[col].values or 'GLQ' in X_full[col].values:\n",
    "        cols_cat_ord.append(col)\n",
    "    else:\n",
    "        cols_cat_oh.append(col)    "
   ]
  },
  {
   "cell_type": "markdown",
   "id": "c1dfcc05-323e-40fa-bc1b-c6f2f7c72912",
   "metadata": {},
   "source": [
    "#### So, now we have 3 groups: numerical variables, categorical for ordinal encoding and categorical for one-hot encoding"
   ]
  },
  {
   "cell_type": "code",
   "execution_count": 61,
   "id": "e4004324-9aaa-4c9c-9d6e-953b3d6e60f2",
   "metadata": {},
   "outputs": [],
   "source": [
    "# num_cols\n",
    "# cols_cat_ord\n",
    "# cols_cat_oh"
   ]
  },
  {
   "cell_type": "code",
   "execution_count": 62,
   "id": "fc755080-ba90-4a48-9b6d-8e5cf867e792",
   "metadata": {},
   "outputs": [
    {
     "data": {
      "text/plain": [
       "77"
      ]
     },
     "execution_count": 62,
     "metadata": {},
     "output_type": "execute_result"
    }
   ],
   "source": [
    "len(num_cols + cols_cat_oh + cols_cat_ord)"
   ]
  },
  {
   "cell_type": "markdown",
   "id": "a1f823cf-8281-49db-b86e-1b9a399763f5",
   "metadata": {},
   "source": [
    "#### We keep in mind that there's a column 'Neighborhood' with 25 unique values and it is high number for One-Hot Encoding, but we'll see"
   ]
  },
  {
   "cell_type": "code",
   "execution_count": 63,
   "id": "efaadc2b-a125-4ae8-bbe2-14f3710168ce",
   "metadata": {},
   "outputs": [
    {
     "data": {
      "text/plain": [
       "[('Street', 2),\n",
       " ('Utilities', 2),\n",
       " ('CentralAir', 2),\n",
       " ('MiscFeature', 2),\n",
       " ('LandSlope', 3),\n",
       " ('PavedDrive', 3),\n",
       " ('MasVnrType', 4),\n",
       " ('LotShape', 4),\n",
       " ('LandContour', 4),\n",
       " ('MSZoning', 5),\n",
       " ('LotConfig', 5),\n",
       " ('BldgType', 5),\n",
       " ('Electrical', 5),\n",
       " ('GarageType', 6),\n",
       " ('RoofStyle', 6),\n",
       " ('Foundation', 6),\n",
       " ('Heating', 6),\n",
       " ('SaleCondition', 6),\n",
       " ('HouseStyle', 7),\n",
       " ('Functional', 7),\n",
       " ('Condition2', 8),\n",
       " ('RoofMatl', 8),\n",
       " ('Condition1', 9),\n",
       " ('SaleType', 9),\n",
       " ('Exterior1st', 15),\n",
       " ('Exterior2nd', 16),\n",
       " ('Neighborhood', 25)]"
      ]
     },
     "execution_count": 63,
     "metadata": {},
     "output_type": "execute_result"
    }
   ],
   "source": [
    "object_nunique = list(map(lambda col: X_full[col].nunique(), cols_cat_oh))\n",
    "d = dict(zip(cols_cat_oh, object_nunique))\n",
    "\n",
    "# Print number of unique entries by column, in ascending order\n",
    "sorted(d.items(), key=lambda x: x[1])"
   ]
  },
  {
   "cell_type": "markdown",
   "id": "ec7cfa45-da3c-4160-ba79-6ab23d379b8d",
   "metadata": {
    "tags": []
   },
   "source": [
    "## Now, I put preprocessing and model together into the pipeline"
   ]
  },
  {
   "cell_type": "markdown",
   "id": "818a88ce-abbf-4600-b33e-dd8d84c5243f",
   "metadata": {},
   "source": [
    "#### Step 1: Define Preprocessing Steps"
   ]
  },
  {
   "cell_type": "code",
   "execution_count": 64,
   "id": "bdeb863c-ed9f-4024-83bd-403ce03d4ed6",
   "metadata": {},
   "outputs": [],
   "source": [
    "# preprocessing for numerical columns\n",
    "numerical_transformer = SimpleImputer(strategy='mean')\n",
    "\n",
    "# preprocessing for categorical columns\n",
    "categorical_ordinal_transformer = Pipeline(steps = [('imputer', SimpleImputer(strategy='most_frequent')),\n",
    "                                                     ('ordinal', OrdinalEncoder())])\n",
    "\n",
    "categorical_one_hot_transformer = Pipeline(steps = [('imputer', SimpleImputer(strategy='most_frequent')),\n",
    "                                                     ('one_hot', OneHotEncoder(handle_unknown='ignore'))])\n",
    "\n",
    "# Bundle preprocessing for numerical and categorical data\n",
    "preprocessor = ColumnTransformer(transformers=[('num', numerical_transformer, num_cols),\n",
    "                                               ('cat_ord', categorical_ordinal_transformer, cols_cat_ord),\n",
    "                                               ('cat_oh', categorical_one_hot_transformer, cols_cat_oh)])                           \n"
   ]
  },
  {
   "cell_type": "markdown",
   "id": "21105f87-be85-4c80-a37c-9d89c52f6694",
   "metadata": {},
   "source": [
    "#### Step 2: Define the Model"
   ]
  },
  {
   "cell_type": "code",
   "execution_count": 65,
   "id": "b3fae55a-a92e-468c-be28-eee58f19053b",
   "metadata": {},
   "outputs": [],
   "source": [
    "# Separate data into training and validation sets\n",
    "X_train, X_valid, y_train, y_valid = train_test_split(X_full, y)"
   ]
  },
  {
   "cell_type": "code",
   "execution_count": 66,
   "id": "a71e573b-cac9-4777-ba3f-bc755dad2dea",
   "metadata": {
    "tags": []
   },
   "outputs": [],
   "source": [
    "# define XGBRegressor model\n",
    "model = XGBRegressor(n_estimators=400, learning_rate=0.05, n_jobs=4, random_state=0)"
   ]
  },
  {
   "cell_type": "markdown",
   "id": "6e449573-67b3-4393-8134-018ecd05214f",
   "metadata": {},
   "source": [
    "#### Step 3: Create and Evaluate a Pipeline"
   ]
  },
  {
   "cell_type": "code",
   "execution_count": 67,
   "id": "def87239-e722-4a82-ae28-c5dccda97b4e",
   "metadata": {},
   "outputs": [],
   "source": [
    "# Bundle preprocessing and modeling code in a pipeline\n",
    "my_pipeline = Pipeline(steps=[('preprocessor', preprocessor),\n",
    "                              ('model', model)])\n",
    "\n",
    "# Preprocessing of training data, fit model\n",
    "my_pipeline.fit(X_train, y_train)\n",
    "\n",
    "# Preprocessing of validation data, get predictions\n",
    "preds = my_pipeline.predict(X_valid)"
   ]
  },
  {
   "cell_type": "markdown",
   "id": "650402d4-fb1e-40bf-8cc4-c8fe16ce6de1",
   "metadata": {},
   "source": [
    "#### Step 4: Check accuracy"
   ]
  },
  {
   "cell_type": "markdown",
   "id": "94b52341-1366-4372-92f6-82f2beab416a",
   "metadata": {},
   "source": [
    "Our metric is Root-Mean-Squared-Error (RMSE), so we can use `mean_squared_error` from `sklearn.metrics` using parameter `squared=False`"
   ]
  },
  {
   "cell_type": "code",
   "execution_count": 68,
   "id": "9953f265-cef5-4520-9872-fe9f36769ec3",
   "metadata": {},
   "outputs": [
    {
     "name": "stdout",
     "output_type": "stream",
     "text": [
      "RMS: 24177.978638028664\n"
     ]
    }
   ],
   "source": [
    "from sklearn.metrics import mean_squared_error\n",
    "\n",
    "rms = mean_squared_error(y_valid, preds, squared=False)\n",
    "\n",
    "print(f'RMS: {rms}')"
   ]
  },
  {
   "cell_type": "code",
   "execution_count": 69,
   "id": "f252aa72-1048-46ed-8264-c100fcfa3de7",
   "metadata": {},
   "outputs": [
    {
     "name": "stdout",
     "output_type": "stream",
     "text": [
      "MAE: 16524.73957619863\n"
     ]
    }
   ],
   "source": [
    "from sklearn.metrics import mean_absolute_error\n",
    "\n",
    "mae = mean_absolute_error(y_valid, preds)\n",
    "print('MAE:', mae)"
   ]
  },
  {
   "cell_type": "code",
   "execution_count": 70,
   "id": "ecd3b80a-8acd-4947-872b-b56487402174",
   "metadata": {},
   "outputs": [],
   "source": [
    "# for n in range(100, 800, 100):\n",
    "#     model = XGBRegressor(n_estimators=n, learning_rate=0.05, n_jobs=4, random_state=0)\n",
    "#     # Bundle preprocessing and modeling code in a pipeline\n",
    "#     my_pipeline = Pipeline(steps=[('preprocessor', preprocessor),\n",
    "#                                   ('model', model)])\n",
    "\n",
    "#     # Preprocessing of training data, fit model\n",
    "#     my_pipeline.fit(X_train, y_train)\n",
    "\n",
    "#     # Preprocessing of validation data, get predictions\n",
    "#     preds = my_pipeline.predict(X_valid)\n",
    "#     rms = mean_squared_error(y_valid, preds, squared=False)\n",
    "#     mae = mean_absolute_error(y_valid, preds)\n",
    "    \n",
    "#     print(f'n_estimators: {n}: MAE: {mae}, RMS: {rms}')"
   ]
  },
  {
   "cell_type": "code",
   "execution_count": 71,
   "id": "5d7574af-9c54-46c0-9629-0bbbebf76836",
   "metadata": {},
   "outputs": [
    {
     "data": {
      "text/html": [
       "<style>#sk-container-id-1 {color: black;background-color: white;}#sk-container-id-1 pre{padding: 0;}#sk-container-id-1 div.sk-toggleable {background-color: white;}#sk-container-id-1 label.sk-toggleable__label {cursor: pointer;display: block;width: 100%;margin-bottom: 0;padding: 0.3em;box-sizing: border-box;text-align: center;}#sk-container-id-1 label.sk-toggleable__label-arrow:before {content: \"▸\";float: left;margin-right: 0.25em;color: #696969;}#sk-container-id-1 label.sk-toggleable__label-arrow:hover:before {color: black;}#sk-container-id-1 div.sk-estimator:hover label.sk-toggleable__label-arrow:before {color: black;}#sk-container-id-1 div.sk-toggleable__content {max-height: 0;max-width: 0;overflow: hidden;text-align: left;background-color: #f0f8ff;}#sk-container-id-1 div.sk-toggleable__content pre {margin: 0.2em;color: black;border-radius: 0.25em;background-color: #f0f8ff;}#sk-container-id-1 input.sk-toggleable__control:checked~div.sk-toggleable__content {max-height: 200px;max-width: 100%;overflow: auto;}#sk-container-id-1 input.sk-toggleable__control:checked~label.sk-toggleable__label-arrow:before {content: \"▾\";}#sk-container-id-1 div.sk-estimator input.sk-toggleable__control:checked~label.sk-toggleable__label {background-color: #d4ebff;}#sk-container-id-1 div.sk-label input.sk-toggleable__control:checked~label.sk-toggleable__label {background-color: #d4ebff;}#sk-container-id-1 input.sk-hidden--visually {border: 0;clip: rect(1px 1px 1px 1px);clip: rect(1px, 1px, 1px, 1px);height: 1px;margin: -1px;overflow: hidden;padding: 0;position: absolute;width: 1px;}#sk-container-id-1 div.sk-estimator {font-family: monospace;background-color: #f0f8ff;border: 1px dotted black;border-radius: 0.25em;box-sizing: border-box;margin-bottom: 0.5em;}#sk-container-id-1 div.sk-estimator:hover {background-color: #d4ebff;}#sk-container-id-1 div.sk-parallel-item::after {content: \"\";width: 100%;border-bottom: 1px solid gray;flex-grow: 1;}#sk-container-id-1 div.sk-label:hover label.sk-toggleable__label {background-color: #d4ebff;}#sk-container-id-1 div.sk-serial::before {content: \"\";position: absolute;border-left: 1px solid gray;box-sizing: border-box;top: 0;bottom: 0;left: 50%;z-index: 0;}#sk-container-id-1 div.sk-serial {display: flex;flex-direction: column;align-items: center;background-color: white;padding-right: 0.2em;padding-left: 0.2em;position: relative;}#sk-container-id-1 div.sk-item {position: relative;z-index: 1;}#sk-container-id-1 div.sk-parallel {display: flex;align-items: stretch;justify-content: center;background-color: white;position: relative;}#sk-container-id-1 div.sk-item::before, #sk-container-id-1 div.sk-parallel-item::before {content: \"\";position: absolute;border-left: 1px solid gray;box-sizing: border-box;top: 0;bottom: 0;left: 50%;z-index: -1;}#sk-container-id-1 div.sk-parallel-item {display: flex;flex-direction: column;z-index: 1;position: relative;background-color: white;}#sk-container-id-1 div.sk-parallel-item:first-child::after {align-self: flex-end;width: 50%;}#sk-container-id-1 div.sk-parallel-item:last-child::after {align-self: flex-start;width: 50%;}#sk-container-id-1 div.sk-parallel-item:only-child::after {width: 0;}#sk-container-id-1 div.sk-dashed-wrapped {border: 1px dashed gray;margin: 0 0.4em 0.5em 0.4em;box-sizing: border-box;padding-bottom: 0.4em;background-color: white;}#sk-container-id-1 div.sk-label label {font-family: monospace;font-weight: bold;display: inline-block;line-height: 1.2em;}#sk-container-id-1 div.sk-label-container {text-align: center;}#sk-container-id-1 div.sk-container {/* jupyter's `normalize.less` sets `[hidden] { display: none; }` but bootstrap.min.css set `[hidden] { display: none !important; }` so we also need the `!important` here to be able to override the default hidden behavior on the sphinx rendered scikit-learn.org. See: https://github.com/scikit-learn/scikit-learn/issues/21755 */display: inline-block !important;position: relative;}#sk-container-id-1 div.sk-text-repr-fallback {display: none;}</style><div id=\"sk-container-id-1\" class=\"sk-top-container\"><div class=\"sk-text-repr-fallback\"><pre>Pipeline(steps=[(&#x27;preprocessor&#x27;,\n",
       "                 ColumnTransformer(transformers=[(&#x27;num&#x27;, SimpleImputer(),\n",
       "                                                  [&#x27;MSSubClass&#x27;, &#x27;LotFrontage&#x27;,\n",
       "                                                   &#x27;LotArea&#x27;, &#x27;OverallQual&#x27;,\n",
       "                                                   &#x27;OverallCond&#x27;, &#x27;YearBuilt&#x27;,\n",
       "                                                   &#x27;YearRemodAdd&#x27;, &#x27;MasVnrArea&#x27;,\n",
       "                                                   &#x27;BsmtFinSF1&#x27;, &#x27;BsmtFinSF2&#x27;,\n",
       "                                                   &#x27;BsmtUnfSF&#x27;, &#x27;TotalBsmtSF&#x27;,\n",
       "                                                   &#x27;1stFlrSF&#x27;, &#x27;2ndFlrSF&#x27;,\n",
       "                                                   &#x27;LowQualFinSF&#x27;, &#x27;GrLivArea&#x27;,\n",
       "                                                   &#x27;BsmtFullBath&#x27;,\n",
       "                                                   &#x27;BsmtHalfBath&#x27;, &#x27;FullBath&#x27;,\n",
       "                                                   &#x27;HalfBath&#x27;, &#x27;Bed...\n",
       "                              gamma=0, gpu_id=-1, grow_policy=&#x27;depthwise&#x27;,\n",
       "                              importance_type=None, interaction_constraints=&#x27;&#x27;,\n",
       "                              learning_rate=0.05, max_bin=256,\n",
       "                              max_cat_to_onehot=4, max_delta_step=0,\n",
       "                              max_depth=6, max_leaves=0, min_child_weight=1,\n",
       "                              missing=nan, monotone_constraints=&#x27;()&#x27;,\n",
       "                              n_estimators=400, n_jobs=4, num_parallel_tree=1,\n",
       "                              predictor=&#x27;auto&#x27;, random_state=0, reg_alpha=0,\n",
       "                              reg_lambda=1, ...))])</pre><b>In a Jupyter environment, please rerun this cell to show the HTML representation or trust the notebook. <br />On GitHub, the HTML representation is unable to render, please try loading this page with nbviewer.org.</b></div><div class=\"sk-container\" hidden><div class=\"sk-item sk-dashed-wrapped\"><div class=\"sk-label-container\"><div class=\"sk-label sk-toggleable\"><input class=\"sk-toggleable__control sk-hidden--visually\" id=\"sk-estimator-id-1\" type=\"checkbox\" ><label for=\"sk-estimator-id-1\" class=\"sk-toggleable__label sk-toggleable__label-arrow\">Pipeline</label><div class=\"sk-toggleable__content\"><pre>Pipeline(steps=[(&#x27;preprocessor&#x27;,\n",
       "                 ColumnTransformer(transformers=[(&#x27;num&#x27;, SimpleImputer(),\n",
       "                                                  [&#x27;MSSubClass&#x27;, &#x27;LotFrontage&#x27;,\n",
       "                                                   &#x27;LotArea&#x27;, &#x27;OverallQual&#x27;,\n",
       "                                                   &#x27;OverallCond&#x27;, &#x27;YearBuilt&#x27;,\n",
       "                                                   &#x27;YearRemodAdd&#x27;, &#x27;MasVnrArea&#x27;,\n",
       "                                                   &#x27;BsmtFinSF1&#x27;, &#x27;BsmtFinSF2&#x27;,\n",
       "                                                   &#x27;BsmtUnfSF&#x27;, &#x27;TotalBsmtSF&#x27;,\n",
       "                                                   &#x27;1stFlrSF&#x27;, &#x27;2ndFlrSF&#x27;,\n",
       "                                                   &#x27;LowQualFinSF&#x27;, &#x27;GrLivArea&#x27;,\n",
       "                                                   &#x27;BsmtFullBath&#x27;,\n",
       "                                                   &#x27;BsmtHalfBath&#x27;, &#x27;FullBath&#x27;,\n",
       "                                                   &#x27;HalfBath&#x27;, &#x27;Bed...\n",
       "                              gamma=0, gpu_id=-1, grow_policy=&#x27;depthwise&#x27;,\n",
       "                              importance_type=None, interaction_constraints=&#x27;&#x27;,\n",
       "                              learning_rate=0.05, max_bin=256,\n",
       "                              max_cat_to_onehot=4, max_delta_step=0,\n",
       "                              max_depth=6, max_leaves=0, min_child_weight=1,\n",
       "                              missing=nan, monotone_constraints=&#x27;()&#x27;,\n",
       "                              n_estimators=400, n_jobs=4, num_parallel_tree=1,\n",
       "                              predictor=&#x27;auto&#x27;, random_state=0, reg_alpha=0,\n",
       "                              reg_lambda=1, ...))])</pre></div></div></div><div class=\"sk-serial\"><div class=\"sk-item sk-dashed-wrapped\"><div class=\"sk-label-container\"><div class=\"sk-label sk-toggleable\"><input class=\"sk-toggleable__control sk-hidden--visually\" id=\"sk-estimator-id-2\" type=\"checkbox\" ><label for=\"sk-estimator-id-2\" class=\"sk-toggleable__label sk-toggleable__label-arrow\">preprocessor: ColumnTransformer</label><div class=\"sk-toggleable__content\"><pre>ColumnTransformer(transformers=[(&#x27;num&#x27;, SimpleImputer(),\n",
       "                                 [&#x27;MSSubClass&#x27;, &#x27;LotFrontage&#x27;, &#x27;LotArea&#x27;,\n",
       "                                  &#x27;OverallQual&#x27;, &#x27;OverallCond&#x27;, &#x27;YearBuilt&#x27;,\n",
       "                                  &#x27;YearRemodAdd&#x27;, &#x27;MasVnrArea&#x27;, &#x27;BsmtFinSF1&#x27;,\n",
       "                                  &#x27;BsmtFinSF2&#x27;, &#x27;BsmtUnfSF&#x27;, &#x27;TotalBsmtSF&#x27;,\n",
       "                                  &#x27;1stFlrSF&#x27;, &#x27;2ndFlrSF&#x27;, &#x27;LowQualFinSF&#x27;,\n",
       "                                  &#x27;GrLivArea&#x27;, &#x27;BsmtFullBath&#x27;, &#x27;BsmtHalfBath&#x27;,\n",
       "                                  &#x27;FullBath&#x27;, &#x27;HalfBath&#x27;, &#x27;BedroomAbvGr&#x27;,\n",
       "                                  &#x27;KitchenAbvGr&#x27;, &#x27;TotRm...\n",
       "                                                  OneHotEncoder(handle_unknown=&#x27;ignore&#x27;))]),\n",
       "                                 [&#x27;GarageType&#x27;, &#x27;MasVnrType&#x27;, &#x27;MSZoning&#x27;,\n",
       "                                  &#x27;Street&#x27;, &#x27;LotShape&#x27;, &#x27;LandContour&#x27;,\n",
       "                                  &#x27;Utilities&#x27;, &#x27;LotConfig&#x27;, &#x27;LandSlope&#x27;,\n",
       "                                  &#x27;Neighborhood&#x27;, &#x27;Condition1&#x27;, &#x27;Condition2&#x27;,\n",
       "                                  &#x27;BldgType&#x27;, &#x27;HouseStyle&#x27;, &#x27;RoofStyle&#x27;,\n",
       "                                  &#x27;RoofMatl&#x27;, &#x27;Exterior1st&#x27;, &#x27;Exterior2nd&#x27;,\n",
       "                                  &#x27;Foundation&#x27;, &#x27;Heating&#x27;, &#x27;CentralAir&#x27;,\n",
       "                                  &#x27;Electrical&#x27;, &#x27;Functional&#x27;, &#x27;PavedDrive&#x27;,\n",
       "                                  &#x27;MiscFeature&#x27;, &#x27;SaleType&#x27;,\n",
       "                                  &#x27;SaleCondition&#x27;])])</pre></div></div></div><div class=\"sk-parallel\"><div class=\"sk-parallel-item\"><div class=\"sk-item\"><div class=\"sk-label-container\"><div class=\"sk-label sk-toggleable\"><input class=\"sk-toggleable__control sk-hidden--visually\" id=\"sk-estimator-id-3\" type=\"checkbox\" ><label for=\"sk-estimator-id-3\" class=\"sk-toggleable__label sk-toggleable__label-arrow\">num</label><div class=\"sk-toggleable__content\"><pre>[&#x27;MSSubClass&#x27;, &#x27;LotFrontage&#x27;, &#x27;LotArea&#x27;, &#x27;OverallQual&#x27;, &#x27;OverallCond&#x27;, &#x27;YearBuilt&#x27;, &#x27;YearRemodAdd&#x27;, &#x27;MasVnrArea&#x27;, &#x27;BsmtFinSF1&#x27;, &#x27;BsmtFinSF2&#x27;, &#x27;BsmtUnfSF&#x27;, &#x27;TotalBsmtSF&#x27;, &#x27;1stFlrSF&#x27;, &#x27;2ndFlrSF&#x27;, &#x27;LowQualFinSF&#x27;, &#x27;GrLivArea&#x27;, &#x27;BsmtFullBath&#x27;, &#x27;BsmtHalfBath&#x27;, &#x27;FullBath&#x27;, &#x27;HalfBath&#x27;, &#x27;BedroomAbvGr&#x27;, &#x27;KitchenAbvGr&#x27;, &#x27;TotRmsAbvGrd&#x27;, &#x27;Fireplaces&#x27;, &#x27;GarageYrBlt&#x27;, &#x27;GarageCars&#x27;, &#x27;GarageArea&#x27;, &#x27;WoodDeckSF&#x27;, &#x27;OpenPorchSF&#x27;, &#x27;EnclosedPorch&#x27;, &#x27;3SsnPorch&#x27;, &#x27;ScreenPorch&#x27;, &#x27;PoolArea&#x27;, &#x27;MiscVal&#x27;, &#x27;MoSold&#x27;, &#x27;YrSold&#x27;]</pre></div></div></div><div class=\"sk-serial\"><div class=\"sk-item\"><div class=\"sk-estimator sk-toggleable\"><input class=\"sk-toggleable__control sk-hidden--visually\" id=\"sk-estimator-id-4\" type=\"checkbox\" ><label for=\"sk-estimator-id-4\" class=\"sk-toggleable__label sk-toggleable__label-arrow\">SimpleImputer</label><div class=\"sk-toggleable__content\"><pre>SimpleImputer()</pre></div></div></div></div></div></div><div class=\"sk-parallel-item\"><div class=\"sk-item\"><div class=\"sk-label-container\"><div class=\"sk-label sk-toggleable\"><input class=\"sk-toggleable__control sk-hidden--visually\" id=\"sk-estimator-id-5\" type=\"checkbox\" ><label for=\"sk-estimator-id-5\" class=\"sk-toggleable__label sk-toggleable__label-arrow\">cat_ord</label><div class=\"sk-toggleable__content\"><pre>[&#x27;Fence&#x27;, &#x27;FireplaceQu&#x27;, &#x27;GarageFinish&#x27;, &#x27;GarageQual&#x27;, &#x27;GarageCond&#x27;, &#x27;BsmtExposure&#x27;, &#x27;BsmtFinType2&#x27;, &#x27;BsmtFinType1&#x27;, &#x27;BsmtCond&#x27;, &#x27;BsmtQual&#x27;, &#x27;ExterQual&#x27;, &#x27;ExterCond&#x27;, &#x27;HeatingQC&#x27;, &#x27;KitchenQual&#x27;]</pre></div></div></div><div class=\"sk-serial\"><div class=\"sk-item\"><div class=\"sk-serial\"><div class=\"sk-item\"><div class=\"sk-estimator sk-toggleable\"><input class=\"sk-toggleable__control sk-hidden--visually\" id=\"sk-estimator-id-6\" type=\"checkbox\" ><label for=\"sk-estimator-id-6\" class=\"sk-toggleable__label sk-toggleable__label-arrow\">SimpleImputer</label><div class=\"sk-toggleable__content\"><pre>SimpleImputer(strategy=&#x27;most_frequent&#x27;)</pre></div></div></div><div class=\"sk-item\"><div class=\"sk-estimator sk-toggleable\"><input class=\"sk-toggleable__control sk-hidden--visually\" id=\"sk-estimator-id-7\" type=\"checkbox\" ><label for=\"sk-estimator-id-7\" class=\"sk-toggleable__label sk-toggleable__label-arrow\">OrdinalEncoder</label><div class=\"sk-toggleable__content\"><pre>OrdinalEncoder()</pre></div></div></div></div></div></div></div></div><div class=\"sk-parallel-item\"><div class=\"sk-item\"><div class=\"sk-label-container\"><div class=\"sk-label sk-toggleable\"><input class=\"sk-toggleable__control sk-hidden--visually\" id=\"sk-estimator-id-8\" type=\"checkbox\" ><label for=\"sk-estimator-id-8\" class=\"sk-toggleable__label sk-toggleable__label-arrow\">cat_oh</label><div class=\"sk-toggleable__content\"><pre>[&#x27;GarageType&#x27;, &#x27;MasVnrType&#x27;, &#x27;MSZoning&#x27;, &#x27;Street&#x27;, &#x27;LotShape&#x27;, &#x27;LandContour&#x27;, &#x27;Utilities&#x27;, &#x27;LotConfig&#x27;, &#x27;LandSlope&#x27;, &#x27;Neighborhood&#x27;, &#x27;Condition1&#x27;, &#x27;Condition2&#x27;, &#x27;BldgType&#x27;, &#x27;HouseStyle&#x27;, &#x27;RoofStyle&#x27;, &#x27;RoofMatl&#x27;, &#x27;Exterior1st&#x27;, &#x27;Exterior2nd&#x27;, &#x27;Foundation&#x27;, &#x27;Heating&#x27;, &#x27;CentralAir&#x27;, &#x27;Electrical&#x27;, &#x27;Functional&#x27;, &#x27;PavedDrive&#x27;, &#x27;MiscFeature&#x27;, &#x27;SaleType&#x27;, &#x27;SaleCondition&#x27;]</pre></div></div></div><div class=\"sk-serial\"><div class=\"sk-item\"><div class=\"sk-serial\"><div class=\"sk-item\"><div class=\"sk-estimator sk-toggleable\"><input class=\"sk-toggleable__control sk-hidden--visually\" id=\"sk-estimator-id-9\" type=\"checkbox\" ><label for=\"sk-estimator-id-9\" class=\"sk-toggleable__label sk-toggleable__label-arrow\">SimpleImputer</label><div class=\"sk-toggleable__content\"><pre>SimpleImputer(strategy=&#x27;most_frequent&#x27;)</pre></div></div></div><div class=\"sk-item\"><div class=\"sk-estimator sk-toggleable\"><input class=\"sk-toggleable__control sk-hidden--visually\" id=\"sk-estimator-id-10\" type=\"checkbox\" ><label for=\"sk-estimator-id-10\" class=\"sk-toggleable__label sk-toggleable__label-arrow\">OneHotEncoder</label><div class=\"sk-toggleable__content\"><pre>OneHotEncoder(handle_unknown=&#x27;ignore&#x27;)</pre></div></div></div></div></div></div></div></div></div></div><div class=\"sk-item\"><div class=\"sk-estimator sk-toggleable\"><input class=\"sk-toggleable__control sk-hidden--visually\" id=\"sk-estimator-id-11\" type=\"checkbox\" ><label for=\"sk-estimator-id-11\" class=\"sk-toggleable__label sk-toggleable__label-arrow\">XGBRegressor</label><div class=\"sk-toggleable__content\"><pre>XGBRegressor(base_score=0.5, booster=&#x27;gbtree&#x27;, callbacks=None,\n",
       "             colsample_bylevel=1, colsample_bynode=1, colsample_bytree=1,\n",
       "             early_stopping_rounds=None, enable_categorical=False,\n",
       "             eval_metric=None, gamma=0, gpu_id=-1, grow_policy=&#x27;depthwise&#x27;,\n",
       "             importance_type=None, interaction_constraints=&#x27;&#x27;,\n",
       "             learning_rate=0.05, max_bin=256, max_cat_to_onehot=4,\n",
       "             max_delta_step=0, max_depth=6, max_leaves=0, min_child_weight=1,\n",
       "             missing=nan, monotone_constraints=&#x27;()&#x27;, n_estimators=400, n_jobs=4,\n",
       "             num_parallel_tree=1, predictor=&#x27;auto&#x27;, random_state=0, reg_alpha=0,\n",
       "             reg_lambda=1, ...)</pre></div></div></div></div></div></div></div>"
      ],
      "text/plain": [
       "Pipeline(steps=[('preprocessor',\n",
       "                 ColumnTransformer(transformers=[('num', SimpleImputer(),\n",
       "                                                  ['MSSubClass', 'LotFrontage',\n",
       "                                                   'LotArea', 'OverallQual',\n",
       "                                                   'OverallCond', 'YearBuilt',\n",
       "                                                   'YearRemodAdd', 'MasVnrArea',\n",
       "                                                   'BsmtFinSF1', 'BsmtFinSF2',\n",
       "                                                   'BsmtUnfSF', 'TotalBsmtSF',\n",
       "                                                   '1stFlrSF', '2ndFlrSF',\n",
       "                                                   'LowQualFinSF', 'GrLivArea',\n",
       "                                                   'BsmtFullBath',\n",
       "                                                   'BsmtHalfBath', 'FullBath',\n",
       "                                                   'HalfBath', 'Bed...\n",
       "                              gamma=0, gpu_id=-1, grow_policy='depthwise',\n",
       "                              importance_type=None, interaction_constraints='',\n",
       "                              learning_rate=0.05, max_bin=256,\n",
       "                              max_cat_to_onehot=4, max_delta_step=0,\n",
       "                              max_depth=6, max_leaves=0, min_child_weight=1,\n",
       "                              missing=nan, monotone_constraints='()',\n",
       "                              n_estimators=400, n_jobs=4, num_parallel_tree=1,\n",
       "                              predictor='auto', random_state=0, reg_alpha=0,\n",
       "                              reg_lambda=1, ...))])"
      ]
     },
     "execution_count": 71,
     "metadata": {},
     "output_type": "execute_result"
    }
   ],
   "source": [
    "my_pipeline.fit(X_full, y)"
   ]
  },
  {
   "cell_type": "code",
   "execution_count": 72,
   "id": "16bceddd-3af2-4ccb-b396-b37cd2b0af89",
   "metadata": {},
   "outputs": [],
   "source": [
    "test_predictions = my_pipeline.predict(X_test)"
   ]
  },
  {
   "cell_type": "code",
   "execution_count": 73,
   "id": "232c65d2-93b5-4140-abbd-4d271597f46e",
   "metadata": {},
   "outputs": [],
   "source": [
    "output = pd.DataFrame({'Id': X_test.index,\n",
    "                       'SalePrice': test_predictions})\n",
    "output.to_csv('data/submission_1.csv', index=False)"
   ]
  },
  {
   "cell_type": "code",
   "execution_count": null,
   "id": "9589a1aa-a424-45fa-a78a-d3b9bc406604",
   "metadata": {},
   "outputs": [],
   "source": []
  },
  {
   "cell_type": "code",
   "execution_count": null,
   "id": "97e45e9a-9ca5-4a62-b987-3f001cd94d50",
   "metadata": {},
   "outputs": [],
   "source": []
  },
  {
   "cell_type": "code",
   "execution_count": null,
   "id": "0cd9a2bd-5794-4a20-a862-1d6820a7e660",
   "metadata": {},
   "outputs": [],
   "source": []
  },
  {
   "cell_type": "code",
   "execution_count": null,
   "id": "6fdcfc2f-d24c-448d-826f-55c5253cc7b5",
   "metadata": {},
   "outputs": [],
   "source": []
  },
  {
   "cell_type": "code",
   "execution_count": null,
   "id": "8c549d03-2a79-4153-b9fc-3d9f50e65351",
   "metadata": {},
   "outputs": [],
   "source": []
  },
  {
   "cell_type": "code",
   "execution_count": null,
   "id": "3f4a0b5b-9be0-4c5e-80b9-a5d1c8b8480e",
   "metadata": {},
   "outputs": [],
   "source": []
  }
 ],
 "metadata": {
  "kernelspec": {
   "display_name": "Python 3 (ipykernel)",
   "language": "python",
   "name": "python3"
  },
  "language_info": {
   "codemirror_mode": {
    "name": "ipython",
    "version": 3
   },
   "file_extension": ".py",
   "mimetype": "text/x-python",
   "name": "python",
   "nbconvert_exporter": "python",
   "pygments_lexer": "ipython3",
   "version": "3.9.12"
  }
 },
 "nbformat": 4,
 "nbformat_minor": 5
}
